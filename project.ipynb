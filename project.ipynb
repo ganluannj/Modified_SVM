{
  "nbformat": 4,
  "nbformat_minor": 0,
  "metadata": {
    "colab": {
      "name": "Math680_class_project.ipynb",
      "provenance": [],
      "collapsed_sections": []
    },
    "kernelspec": {
      "name": "python3",
      "display_name": "Python 3"
    }
  },
  "cells": [
    {
      "cell_type": "code",
      "metadata": {
        "id": "52_g6xAFCDej",
        "colab_type": "code",
        "colab": {}
      },
      "source": [
        "import numpy as np\n",
        "import random \n",
        "import math\n",
        "from scipy.stats import norm\n",
        "import matplotlib.pyplot as plt\n",
        "from sklearn.svm import SVC"
      ],
      "execution_count": 0,
      "outputs": []
    },
    {
      "cell_type": "code",
      "metadata": {
        "id": "bUoZZwEXZPVA",
        "colab_type": "code",
        "colab": {}
      },
      "source": [
        "!pip install qpsolvers"
      ],
      "execution_count": 0,
      "outputs": []
    },
    {
      "cell_type": "code",
      "metadata": {
        "id": "jkWONhYIZF5G",
        "colab_type": "code",
        "outputId": "3bc7746b-2678-4502-b993-dcc0169e2036",
        "colab": {
          "base_uri": "https://localhost:8080/",
          "height": 305
        }
      },
      "source": [
        "from qpsolvers import solve_qp"
      ],
      "execution_count": 0,
      "outputs": [
        {
          "output_type": "error",
          "ename": "ModuleNotFoundError",
          "evalue": "ignored",
          "traceback": [
            "\u001b[0;31m---------------------------------------------------------------------------\u001b[0m",
            "\u001b[0;31mModuleNotFoundError\u001b[0m                       Traceback (most recent call last)",
            "\u001b[0;32m<ipython-input-5-b46fa005102a>\u001b[0m in \u001b[0;36m<module>\u001b[0;34m()\u001b[0m\n\u001b[0;32m----> 1\u001b[0;31m \u001b[0;32mfrom\u001b[0m \u001b[0mqpsolvers\u001b[0m \u001b[0;32mimport\u001b[0m \u001b[0msolve_qp\u001b[0m\u001b[0;34m\u001b[0m\u001b[0;34m\u001b[0m\u001b[0m\n\u001b[0m",
            "\u001b[0;31mModuleNotFoundError\u001b[0m: No module named 'qpsolvers'",
            "",
            "\u001b[0;31m---------------------------------------------------------------------------\u001b[0;32m\nNOTE: If your import is failing due to a missing package, you can\nmanually install dependencies using either !pip or !apt.\n\nTo view examples of installing some common dependencies, click the\n\"Open Examples\" button below.\n\u001b[0;31m---------------------------------------------------------------------------\u001b[0m\n"
          ]
        }
      ]
    },
    {
      "cell_type": "markdown",
      "metadata": {
        "id": "CBOage4Dpkh5",
        "colab_type": "text"
      },
      "source": [
        "###  Use solve_qp to solve the Quadratic Programming problem in SVM and compare the result directly from SVM in scikit-learn"
      ]
    },
    {
      "cell_type": "code",
      "metadata": {
        "id": "eDMN9_U3p-2v",
        "colab_type": "code",
        "outputId": "808acd4a-0e76-4320-aa52-0652a8094ec3",
        "colab": {
          "base_uri": "https://localhost:8080/",
          "height": 295
        }
      },
      "source": [
        "# first generate and plot the data \n",
        "# generate red and green dots from two Gaussian distribution\n",
        "N=20\n",
        "np.random.seed(10)\n",
        "X0 = np.ones((N,1))\n",
        "# Red dots with mean (1,2), y for red dots be 1\n",
        "# Blue dots with mean(2,1), y for blue dots be -1\n",
        "X1=np.random.multivariate_normal([1,2],[[1,0], [0,1]], size=N)\n",
        "y1=np.ones((N,1))\n",
        "y2=np.zeros((N,1))-np.ones((N,1))\n",
        "X2=np.random.multivariate_normal([2,1],[[1,0], [0,1]], size=N)\n",
        "Redx=np.hstack((X0,X1))\n",
        "Bluex=np.hstack((X0,X2))\n",
        "# combine two classes of dots\n",
        "X=np.concatenate((X1,X2))\n",
        "Xqp=np.concatenate((Redx, Bluex))\n",
        "y=np.concatenate((y1,y2))\n",
        "# plot these dots\n",
        "plt.plot(X1[:,0], X1[:,1], 'ro')\n",
        "plt.plot(X2[:,0], X2[:,1], 'bo')\n",
        "plt.title(\"plot of the two classes of points\")\n",
        "plt.xlabel('X1')\n",
        "plt.ylabel('X2')\n",
        "plt.show()"
      ],
      "execution_count": 0,
      "outputs": [
        {
          "output_type": "display_data",
          "data": {
            "image/png": "[encoded data removed]",
            "text/plain": [
              "<Figure size 432x288 with 1 Axes>"
            ]
          },
          "metadata": {
            "tags": []
          }
        }
      ]
    },
    {
      "cell_type": "markdown",
      "metadata": {
        "id": "mP4bIAxYtvWn",
        "colab_type": "text"
      },
      "source": [
        "### SVM from scikit-learn"
      ]
    },
    {
      "cell_type": "code",
      "metadata": {
        "id": "ekWJwr6it02J",
        "colab_type": "code",
        "outputId": "9cabff23-ce75-464a-90df-c5142cf4156b",
        "colab": {
          "base_uri": "https://localhost:8080/",
          "height": 35
        }
      },
      "source": [
        "SVMsl=SVC(kernel='linear', C=1.0)\n",
        "SVMsl.fit(X, y.ravel())\n",
        "print (\"coef of SVM from scikit-learn is \", [SVMsl.coef0,SVMsl.coef_[0][0], SVMsl.coef_[0][1]])"
      ],
      "execution_count": 0,
      "outputs": [
        {
          "output_type": "stream",
          "text": [
            "coef of SVM from scikit-learn is  [0.0, -1.0010134006643083, 1.2121109158079257]\n"
          ],
          "name": "stdout"
        }
      ]
    },
    {
      "cell_type": "markdown",
      "metadata": {
        "id": "JDMEspPqy4uZ",
        "colab_type": "text"
      },
      "source": [
        "### SVM from Quadratic Programming\n",
        "\n",
        "Here we minimize $1/2 ||\\beta||^2 + C(\\sum_{i=1}^n \\xi_i)$ \\\\\n",
        "subject to $y_i(x^T\\beta+\\beta_0) \\geq 1-\\xi_i, i = 1, \\dots, n$, and $\\xi_i \\geq 0, i=1, \\dots, n $\n",
        "\n",
        "We are trying to rewrite the problem in following format:\n",
        "minimize $1/2 x^TPx + q^x$ w.r.t. $x$, \\\\\n",
        "subject to $Gx\\leq h$ \\\\"
      ]
    },
    {
      "cell_type": "code",
      "metadata": {
        "id": "2qLRbZn9x02h",
        "colab_type": "code",
        "colab": {}
      },
      "source": [
        "# get the number of parameters in beta, including beta_0\n",
        "nbeta=Xqp.shape[1]\n",
        "# get total number of samples\n",
        "nsample=Xqp.shape[0]\n",
        "# create P, P=T.transpose(T)\n",
        "T1=np.identity(nbeta)\n",
        "# change the first line of T1 be all zero\n",
        "T1[0,0]=0\n",
        "T2=np.zeros((nsample, nbeta))\n",
        "T=np.concatenate((T1,T2))\n",
        "P=T@T.T"
      ],
      "execution_count": 0,
      "outputs": []
    },
    {
      "cell_type": "code",
      "metadata": {
        "id": "ytuZ9lBm6dT8",
        "colab_type": "code",
        "colab": {}
      },
      "source": [
        "# create q\n",
        "# q= np.concatenate((q1, q2))\n",
        "# define cost C\n",
        "C=1\n",
        "q1=np.zeros((nbeta))\n",
        "q2=C*np.ones((nsample))\n",
        "q= np.concatenate((q1, q2))"
      ],
      "execution_count": 0,
      "outputs": []
    },
    {
      "cell_type": "code",
      "metadata": {
        "id": "0SflwCXC4guR",
        "colab_type": "code",
        "colab": {}
      },
      "source": [
        "# create G, G=np.concatenate(Q, O)\n",
        "# Q=Q1-Q2\n",
        "Q11=np.zeros((nsample,nbeta))\n",
        "Q12=np.identity(nsample)\n",
        "Q1=-np.hstack((Q11, Q12))\n",
        "Q21=y*Xqp\n",
        "Q22=np.zeros((nsample,nsample))\n",
        "Q2=np.hstack((Q21, Q22))\n",
        "Q=Q1-Q2\n",
        "# O=Q1\n",
        "G=np.concatenate((Q, Q1))"
      ],
      "execution_count": 0,
      "outputs": []
    },
    {
      "cell_type": "code",
      "metadata": {
        "id": "c08F_t6O4hvM",
        "colab_type": "code",
        "colab": {}
      },
      "source": [
        "# create h\n",
        "# h = np.concatenate((h1, h2))\n",
        "h1=-np.ones((nsample))\n",
        "h2=np.zeros((nsample))\n",
        "h = np.concatenate((h1, h2))"
      ],
      "execution_count": 0,
      "outputs": []
    },
    {
      "cell_type": "code",
      "metadata": {
        "id": "_2eph5fT8LVC",
        "colab_type": "code",
        "outputId": "b8fef2e9-3a7d-4869-b4ee-c15a53ab6242",
        "colab": {
          "base_uri": "https://localhost:8080/",
          "height": 166
        }
      },
      "source": [
        "# SVM from quadratic programming\n",
        "print (\"QP solution:\", solve_qp(P=P, q=q, G=G, h=h))"
      ],
      "execution_count": 0,
      "outputs": [
        {
          "output_type": "error",
          "ename": "NameError",
          "evalue": "ignored",
          "traceback": [
            "\u001b[0;31m---------------------------------------------------------------------------\u001b[0m",
            "\u001b[0;31mNameError\u001b[0m                                 Traceback (most recent call last)",
            "\u001b[0;32m<ipython-input-12-387b8cbef407>\u001b[0m in \u001b[0;36m<module>\u001b[0;34m()\u001b[0m\n\u001b[0;32m----> 1\u001b[0;31m \u001b[0mprint\u001b[0m \u001b[0;34m(\u001b[0m\u001b[0;34m\"QP solution:\"\u001b[0m\u001b[0;34m,\u001b[0m \u001b[0msolve_qp\u001b[0m\u001b[0;34m(\u001b[0m\u001b[0mP\u001b[0m\u001b[0;34m=\u001b[0m\u001b[0mP\u001b[0m\u001b[0;34m,\u001b[0m \u001b[0mq\u001b[0m\u001b[0;34m=\u001b[0m\u001b[0mq\u001b[0m\u001b[0;34m,\u001b[0m \u001b[0mG\u001b[0m\u001b[0;34m=\u001b[0m\u001b[0mG\u001b[0m\u001b[0;34m,\u001b[0m \u001b[0mh\u001b[0m\u001b[0;34m=\u001b[0m\u001b[0mh\u001b[0m\u001b[0;34m)\u001b[0m\u001b[0;34m)\u001b[0m\u001b[0;34m\u001b[0m\u001b[0;34m\u001b[0m\u001b[0m\n\u001b[0m",
            "\u001b[0;31mNameError\u001b[0m: name 'solve_qp' is not defined"
          ]
        }
      ]
    },
    {
      "cell_type": "code",
      "metadata": {
        "id": "aL2klfSD8Ayh",
        "colab_type": "code",
        "outputId": "0ca513f6-5b88-454f-85b5-fcc7f3e8527a",
        "colab": {
          "base_uri": "https://localhost:8080/",
          "height": 35
        }
      },
      "source": [
        "#P.shape\n",
        "q.shape\n",
        "#Q1\n",
        "#Q2.shape\n",
        "#h\n",
        "G.shape"
      ],
      "execution_count": 0,
      "outputs": [
        {
          "output_type": "execute_result",
          "data": {
            "text/plain": [
              "(80, 43)"
            ]
          },
          "metadata": {
            "tags": []
          },
          "execution_count": 13
        }
      ]
    },
    {
      "cell_type": "code",
      "metadata": {
        "id": "0FxkSp3Q-E2k",
        "colab_type": "code",
        "outputId": "9b04485a-22f3-44a1-e01e-955bf89b5af4",
        "colab": {
          "base_uri": "https://localhost:8080/",
          "height": 374
        }
      },
      "source": [
        "from numpy import array, dot\n",
        "from qpsolvers import solve_qp\n",
        "\n",
        "M = array([[1., 2., 0.], [-8., 3., 2.], [0., 1., 1.]])\n",
        "P = dot(M.T, M)  # quick way to build a symmetric matrix\n",
        "q = dot(array([3., 2., 3.]), M).reshape((3,))\n",
        "G = array([[1., 2., 1.], [2., 0., 1.], [-1., 2., -1.]])\n",
        "h = array([3., 2., -2.]).reshape((3,))\n",
        "A = array([1., 1., 1.])\n",
        "b = array([1.])\n",
        "\n",
        "print (\"QP solution:\", solve_qp(P, q, G, h))"
      ],
      "execution_count": 0,
      "outputs": [
        {
          "output_type": "error",
          "ename": "ModuleNotFoundError",
          "evalue": "ignored",
          "traceback": [
            "\u001b[0;31m---------------------------------------------------------------------------\u001b[0m",
            "\u001b[0;31mModuleNotFoundError\u001b[0m                       Traceback (most recent call last)",
            "\u001b[0;32m<ipython-input-14-9fd985d1e34d>\u001b[0m in \u001b[0;36m<module>\u001b[0;34m()\u001b[0m\n\u001b[1;32m      1\u001b[0m \u001b[0;32mfrom\u001b[0m \u001b[0mnumpy\u001b[0m \u001b[0;32mimport\u001b[0m \u001b[0marray\u001b[0m\u001b[0;34m,\u001b[0m \u001b[0mdot\u001b[0m\u001b[0;34m\u001b[0m\u001b[0;34m\u001b[0m\u001b[0m\n\u001b[0;32m----> 2\u001b[0;31m \u001b[0;32mfrom\u001b[0m \u001b[0mqpsolvers\u001b[0m \u001b[0;32mimport\u001b[0m \u001b[0msolve_qp\u001b[0m\u001b[0;34m\u001b[0m\u001b[0;34m\u001b[0m\u001b[0m\n\u001b[0m\u001b[1;32m      3\u001b[0m \u001b[0;34m\u001b[0m\u001b[0m\n\u001b[1;32m      4\u001b[0m \u001b[0mM\u001b[0m \u001b[0;34m=\u001b[0m \u001b[0marray\u001b[0m\u001b[0;34m(\u001b[0m\u001b[0;34m[\u001b[0m\u001b[0;34m[\u001b[0m\u001b[0;36m1.\u001b[0m\u001b[0;34m,\u001b[0m \u001b[0;36m2.\u001b[0m\u001b[0;34m,\u001b[0m \u001b[0;36m0.\u001b[0m\u001b[0;34m]\u001b[0m\u001b[0;34m,\u001b[0m \u001b[0;34m[\u001b[0m\u001b[0;34m-\u001b[0m\u001b[0;36m8.\u001b[0m\u001b[0;34m,\u001b[0m \u001b[0;36m3.\u001b[0m\u001b[0;34m,\u001b[0m \u001b[0;36m2.\u001b[0m\u001b[0;34m]\u001b[0m\u001b[0;34m,\u001b[0m \u001b[0;34m[\u001b[0m\u001b[0;36m0.\u001b[0m\u001b[0;34m,\u001b[0m \u001b[0;36m1.\u001b[0m\u001b[0;34m,\u001b[0m \u001b[0;36m1.\u001b[0m\u001b[0;34m]\u001b[0m\u001b[0;34m]\u001b[0m\u001b[0;34m)\u001b[0m\u001b[0;34m\u001b[0m\u001b[0;34m\u001b[0m\u001b[0m\n\u001b[1;32m      5\u001b[0m \u001b[0mP\u001b[0m \u001b[0;34m=\u001b[0m \u001b[0mdot\u001b[0m\u001b[0;34m(\u001b[0m\u001b[0mM\u001b[0m\u001b[0;34m.\u001b[0m\u001b[0mT\u001b[0m\u001b[0;34m,\u001b[0m \u001b[0mM\u001b[0m\u001b[0;34m)\u001b[0m  \u001b[0;31m# quick way to build a symmetric matrix\u001b[0m\u001b[0;34m\u001b[0m\u001b[0;34m\u001b[0m\u001b[0m\n",
            "\u001b[0;31mModuleNotFoundError\u001b[0m: No module named 'qpsolvers'",
            "",
            "\u001b[0;31m---------------------------------------------------------------------------\u001b[0;32m\nNOTE: If your import is failing due to a missing package, you can\nmanually install dependencies using either !pip or !apt.\n\nTo view examples of installing some common dependencies, click the\n\"Open Examples\" button below.\n\u001b[0;31m---------------------------------------------------------------------------\u001b[0m\n"
          ]
        }
      ]
    },
    {
      "cell_type": "code",
      "metadata": {
        "id": "3N4wRFXh7ice",
        "colab_type": "code",
        "outputId": "3754405d-cb23-4dea-aa5c-9230545fe88c",
        "colab": {
          "base_uri": "https://localhost:8080/",
          "height": 35
        }
      },
      "source": [
        "np.all(np.linalg.eigvals(P) >= 0)"
      ],
      "execution_count": 0,
      "outputs": [
        {
          "output_type": "execute_result",
          "data": {
            "text/plain": [
              "True"
            ]
          },
          "metadata": {
            "tags": []
          },
          "execution_count": 15
        }
      ]
    },
    {
      "cell_type": "code",
      "metadata": {
        "id": "10Ts2Z3RGl2T",
        "colab_type": "code",
        "outputId": "c3009715-a81a-403a-dfb8-5ac704ec8cf0",
        "colab": {
          "base_uri": "https://localhost:8080/",
          "height": 35
        }
      },
      "source": [
        "np.allclose(P, P.T)"
      ],
      "execution_count": 0,
      "outputs": [
        {
          "output_type": "execute_result",
          "data": {
            "text/plain": [
              "True"
            ]
          },
          "metadata": {
            "tags": []
          },
          "execution_count": 16
        }
      ]
    },
    {
      "cell_type": "code",
      "metadata": {
        "id": "AZyQHBZ5HBfg",
        "colab_type": "code",
        "outputId": "b520946e-1708-459c-ee54-a63ab903772a",
        "colab": {
          "base_uri": "https://localhost:8080/",
          "height": 349
        }
      },
      "source": [
        "import cvxopt\n",
        "cvxopt.solvers.qp(P, q, G, h, meq=0)"
      ],
      "execution_count": 0,
      "outputs": [
        {
          "output_type": "error",
          "ename": "ValueError",
          "evalue": "ignored",
          "traceback": [
            "\u001b[0;31m---------------------------------------------------------------------------\u001b[0m",
            "\u001b[0;31mValueError\u001b[0m                                Traceback (most recent call last)",
            "\u001b[0;32m<ipython-input-17-f5f4a53e8cf4>\u001b[0m in \u001b[0;36m<module>\u001b[0;34m()\u001b[0m\n\u001b[1;32m      1\u001b[0m \u001b[0;32mimport\u001b[0m \u001b[0mcvxopt\u001b[0m\u001b[0;34m\u001b[0m\u001b[0;34m\u001b[0m\u001b[0m\n\u001b[0;32m----> 2\u001b[0;31m \u001b[0mcvxopt\u001b[0m\u001b[0;34m.\u001b[0m\u001b[0msolvers\u001b[0m\u001b[0;34m.\u001b[0m\u001b[0mqp\u001b[0m\u001b[0;34m(\u001b[0m\u001b[0mP\u001b[0m\u001b[0;34m,\u001b[0m \u001b[0mq\u001b[0m\u001b[0;34m,\u001b[0m \u001b[0mG\u001b[0m\u001b[0;34m,\u001b[0m \u001b[0mh\u001b[0m\u001b[0;34m,\u001b[0m \u001b[0mmeq\u001b[0m\u001b[0;34m=\u001b[0m\u001b[0;36m0\u001b[0m\u001b[0;34m)\u001b[0m\u001b[0;34m\u001b[0m\u001b[0;34m\u001b[0m\u001b[0m\n\u001b[0m",
            "\u001b[0;32m/usr/local/lib/python3.6/dist-packages/cvxopt/coneprog.py\u001b[0m in \u001b[0;36mqp\u001b[0;34m(P, q, G, h, A, b, solver, kktsolver, initvals, **kwargs)\u001b[0m\n\u001b[1;32m   4483\u001b[0m             'residual as dual infeasibility certificate': dinfres}\n\u001b[1;32m   4484\u001b[0m \u001b[0;34m\u001b[0m\u001b[0m\n\u001b[0;32m-> 4485\u001b[0;31m     \u001b[0;32mreturn\u001b[0m \u001b[0mconeqp\u001b[0m\u001b[0;34m(\u001b[0m\u001b[0mP\u001b[0m\u001b[0;34m,\u001b[0m \u001b[0mq\u001b[0m\u001b[0;34m,\u001b[0m \u001b[0mG\u001b[0m\u001b[0;34m,\u001b[0m \u001b[0mh\u001b[0m\u001b[0;34m,\u001b[0m \u001b[0;32mNone\u001b[0m\u001b[0;34m,\u001b[0m \u001b[0mA\u001b[0m\u001b[0;34m,\u001b[0m  \u001b[0mb\u001b[0m\u001b[0;34m,\u001b[0m \u001b[0minitvals\u001b[0m\u001b[0;34m,\u001b[0m \u001b[0mkktsolver\u001b[0m \u001b[0;34m=\u001b[0m \u001b[0mkktsolver\u001b[0m\u001b[0;34m,\u001b[0m \u001b[0moptions\u001b[0m \u001b[0;34m=\u001b[0m \u001b[0moptions\u001b[0m\u001b[0;34m)\u001b[0m\u001b[0;34m\u001b[0m\u001b[0;34m\u001b[0m\u001b[0m\n\u001b[0m",
            "\u001b[0;32m/usr/local/lib/python3.6/dist-packages/cvxopt/coneprog.py\u001b[0m in \u001b[0;36mconeqp\u001b[0;34m(P, q, G, h, dims, A, b, initvals, kktsolver, xnewcopy, xdot, xaxpy, xscal, ynewcopy, ydot, yaxpy, yscal, **kwargs)\u001b[0m\n\u001b[1;32m   1820\u001b[0m     if (not matrixP or (not matrixG and G is not None) or\n\u001b[1;32m   1821\u001b[0m         (not matrixA and A is not None)) and not customkkt:\n\u001b[0;32m-> 1822\u001b[0;31m         raise ValueError(\"use of function valued P, G, A requires a \"\\\n\u001b[0m\u001b[1;32m   1823\u001b[0m             \"user-provided kktsolver\")\n\u001b[1;32m   1824\u001b[0m     customx = (xnewcopy != None or xdot != None or xaxpy != None or\n",
            "\u001b[0;31mValueError\u001b[0m: use of function valued P, G, A requires a user-provided kktsolver"
          ]
        }
      ]
    },
    {
      "cell_type": "code",
      "metadata": {
        "id": "0_0FYXYAp_O2",
        "colab_type": "code",
        "colab": {}
      },
      "source": [
        ""
      ],
      "execution_count": 0,
      "outputs": []
    }
  ]
}