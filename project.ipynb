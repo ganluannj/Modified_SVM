{
  "nbformat": 4,
  "nbformat_minor": 0,
  "metadata": {
    "colab": {
      "name": "Math680_course_project_2.ipynb",
      "provenance": [],
      "collapsed_sections": []
    },
    "kernelspec": {
      "name": "python3",
      "display_name": "Python 3"
    }
  },
  "cells": [
    {
      "cell_type": "code",
      "metadata": {
        "id": "mZ8YdBD1FPBA",
        "colab_type": "code",
        "colab": {}
      },
      "source": [
        "import numpy as np\n",
        "import random \n",
        "import math\n",
        "from scipy.stats import norm\n",
        "import matplotlib.pyplot as plt\n",
        "from sklearn.svm import SVC\n",
        "from sklearn.model_selection import GridSearchCV"
      ],
      "execution_count": 0,
      "outputs": []
    },
    {
      "cell_type": "code",
      "metadata": {
        "id": "K0qwQFYwFpZ3",
        "colab_type": "code",
        "outputId": "1a75ae50-0dbd-4a3c-93bb-cd2dc94ef629",
        "colab": {
          "base_uri": "https://localhost:8080/",
          "height": 295
        }
      },
      "source": [
        "# first generate and plot the data \n",
        "# generate red and green dots from two Gaussian distribution\n",
        "N1=5\n",
        "N2=20\n",
        "np.random.seed(20)\n",
        "X01 = np.ones((N1,1))\n",
        "X02 = np.ones((N2,1))\n",
        "mu1=[4,1]\n",
        "Sigma1=[[10,0], [0,10]]\n",
        "mu2=[1,4]\n",
        "Sigma2=[[10,0], [0,10]]\n",
        "X1=np.random.multivariate_normal(mu1,Sigma1, size=N1)\n",
        "y1=np.ones((N1,1))\n",
        "y2=-np.ones((N2,1))\n",
        "X2=np.random.multivariate_normal(mu2,Sigma2, size=N2)\n",
        "Redx=np.hstack((X01,X1))\n",
        "Bluex=np.hstack((X02,X2))\n",
        "# combine two classes of dots\n",
        "X=np.concatenate((X1,X2))\n",
        "Xqp=np.concatenate((Redx, Bluex))\n",
        "y=np.concatenate((y1,y2))\n",
        "# plot these dots\n",
        "plt.plot(X1[:,0], X1[:,1], 'ro')\n",
        "plt.plot(X2[:,0], X2[:,1], 'bo')\n",
        "plt.title(\"plot of the two classes of points\")\n",
        "plt.xlabel('X1')\n",
        "plt.ylabel('X2')\n",
        "plt.show()"
      ],
      "execution_count": 0,
      "outputs": [
        {
          "output_type": "display_data",
          "data": {
            "image/png": "[encoded data removed]",
            "text/plain": [
              "<Figure size 432x288 with 1 Axes>"
            ]
          },
          "metadata": {
            "tags": []
          }
        }
      ]
    },
    {
      "cell_type": "markdown",
      "metadata": {
        "id": "gZeC1czbxQdC",
        "colab_type": "text"
      },
      "source": [
        "### Search for the best cost "
      ]
    },
    {
      "cell_type": "code",
      "metadata": {
        "id": "AW-dyDt6xVGi",
        "colab_type": "code",
        "colab": {}
      },
      "source": [
        "param_grid = {'C': (0.1)**np.arange(0,3)}\n",
        "search = GridSearchCV(SVC(kernel='linear'), param_grid, cv=5)\n",
        "search.fit(X, y.ravel())\n",
        "I=-math.log10(search.best_params_['C'])\n",
        "param_grid2 = {'C': (0.1)**np.arange(I-0.9,I+1, step=0.2)}\n",
        "search2 = GridSearchCV(SVC(kernel='linear'), param_grid2, cv=5)\n",
        "search2.fit(X, y.ravel())\n",
        "Cbest=search2.best_params_['C']"
      ],
      "execution_count": 0,
      "outputs": []
    },
    {
      "cell_type": "code",
      "metadata": {
        "id": "7cctjzT5dcjZ",
        "colab_type": "code",
        "outputId": "14ae78e2-d546-4280-d4b9-58bbf5f4ab49",
        "colab": {
          "base_uri": "https://localhost:8080/",
          "height": 35
        }
      },
      "source": [
        "Cbest"
      ],
      "execution_count": 0,
      "outputs": [
        {
          "output_type": "execute_result",
          "data": {
            "text/plain": [
              "7.943282347242815"
            ]
          },
          "metadata": {
            "tags": []
          },
          "execution_count": 236
        }
      ]
    },
    {
      "cell_type": "markdown",
      "metadata": {
        "id": "Vk7EmsaXZLu6",
        "colab_type": "text"
      },
      "source": [
        "## SVM from Quadratic Programming\n",
        "\n",
        "Here we minimize $1/2 ||\\beta||^2 + C(\\sum_{i=1}^n \\xi_i)$ \\\\\n",
        "subject to $y_i(x^T\\beta+\\beta_0) \\geq 1-\\xi_i, i = 1, \\dots, n$, and $\\xi_i \\geq 0, i=1, \\dots, n $\n",
        "\n",
        "We are trying to rewrite the problem in following format:\n",
        "minimize $1/2 x^TGx + a^Tx$ w.r.t. $x$, \\\\\n",
        "subject to $Cx\\geq b$ \\\\"
      ]
    },
    {
      "cell_type": "code",
      "metadata": {
        "id": "ftMq77EZZQlb",
        "colab_type": "code",
        "outputId": "720a39f2-ced7-49af-ed0a-b5ed797610d5",
        "colab": {
          "base_uri": "https://localhost:8080/",
          "height": 35
        }
      },
      "source": [
        "# !pip install quadprog\n",
        "! CVXOPT_BUILD_GLPK=1 pip install cvxopt"
      ],
      "execution_count": 0,
      "outputs": [
        {
          "output_type": "stream",
          "text": [
            "Requirement already satisfied: cvxopt in /usr/local/lib/python3.6/dist-packages (1.2.3)\n"
          ],
          "name": "stdout"
        }
      ]
    },
    {
      "cell_type": "code",
      "metadata": {
        "id": "NAyQWBqHF3hV",
        "colab_type": "code",
        "colab": {}
      },
      "source": [
        "# get the number of parameters in beta, including beta_0\n",
        "nbeta=Xqp.shape[1]\n",
        "# get total number of samples\n",
        "nsample=Xqp.shape[0]\n",
        "G=np.identity(nbeta+nsample)\n",
        "G[0,0]=0\n",
        "for i in range(nbeta, nbeta+nsample):\n",
        "  G[i,i]=0"
      ],
      "execution_count": 0,
      "outputs": []
    },
    {
      "cell_type": "code",
      "metadata": {
        "id": "GcOvQoJHG8Rk",
        "colab_type": "code",
        "colab": {}
      },
      "source": [
        "# create a\n",
        "# a= np.concatenate((a1, a2))\n",
        "# define cost C\n",
        "Cost=Cbest\n",
        "a1=np.zeros((nbeta))\n",
        "a2=Cost*np.ones((nsample))\n",
        "a= np.concatenate((a1, a2))"
      ],
      "execution_count": 0,
      "outputs": []
    },
    {
      "cell_type": "code",
      "metadata": {
        "id": "kupLllwDHqgP",
        "colab_type": "code",
        "colab": {}
      },
      "source": [
        "# create C=np.concatenate(Q, O)\n",
        "Q11=y*Xqp\n",
        "Q12=np.zeros((nsample,nsample))\n",
        "Q1=np.hstack((Q11, Q12))\n",
        "Q21=np.zeros((nsample,nbeta))\n",
        "Q22=np.identity(nsample)\n",
        "Q2=np.hstack((Q21, Q22))\n",
        "Q=Q1+Q2\n",
        "# O=Q2\n",
        "C=np.concatenate((Q, Q2))"
      ],
      "execution_count": 0,
      "outputs": []
    },
    {
      "cell_type": "code",
      "metadata": {
        "id": "5LwnsLvCM5Oa",
        "colab_type": "code",
        "colab": {}
      },
      "source": [
        "# create b\n",
        "# b = np.concatenate((b1, b2))\n",
        "b1=np.ones((nsample))\n",
        "b2=np.zeros((nsample))\n",
        "b=np.concatenate((b1, b2))"
      ],
      "execution_count": 0,
      "outputs": []
    },
    {
      "cell_type": "code",
      "metadata": {
        "id": "Bg3nmbRs__nJ",
        "colab_type": "code",
        "outputId": "a5e0b501-6078-4520-d963-71d10f44f984",
        "colab": {
          "base_uri": "https://localhost:8080/",
          "height": 35
        }
      },
      "source": [
        "from cvxpy import *\n",
        "# optimization variables\n",
        "#x = Variable(5)\n",
        "x=Variable(nsample+nbeta)\n",
        "\n",
        "# build optimization problem\n",
        "objective = Minimize( 0.5 * quad_form(x, G) + a.T * x)\n",
        "constraints = [ C * x >= b ]\n",
        "prob = Problem(objective, constraints)\n",
        "\n",
        "# solve optimization problem\n",
        "prob.solve()\n",
        "print (\"beta  =\", x.value[0:nbeta])"
      ],
      "execution_count": 0,
      "outputs": [
        {
          "output_type": "stream",
          "text": [
            "beta  = [-2.1539871   0.5001975  -0.15123859]\n"
          ],
          "name": "stdout"
        }
      ]
    },
    {
      "cell_type": "code",
      "metadata": {
        "id": "cIsfBaR7NIo6",
        "colab_type": "code",
        "outputId": "1634ce2d-4bfd-4f38-ff42-1b7a6bbb758a",
        "colab": {
          "base_uri": "https://localhost:8080/",
          "height": 35
        }
      },
      "source": [
        "# SVM\n",
        "SVMsl=SVC(kernel='linear', C=Cbest)\n",
        "SVMsl.fit(X, y.ravel())\n",
        "print (\"coef of SVM from scikit-learn is \", [SVMsl.intercept_,SVMsl.coef_[0][0], SVMsl.coef_[0][1]])"
      ],
      "execution_count": 0,
      "outputs": [
        {
          "output_type": "stream",
          "text": [
            "coef of SVM from scikit-learn is  [array([-2.15449887]), 0.50031129520832, -0.15120905831053122]\n"
          ],
          "name": "stdout"
        }
      ]
    },
    {
      "cell_type": "code",
      "metadata": {
        "id": "2gFRDRF9MpoN",
        "colab_type": "code",
        "outputId": "f8c63d08-033e-4708-ea0b-ae27c5f376e7",
        "colab": {
          "base_uri": "https://localhost:8080/",
          "height": 295
        }
      },
      "source": [
        "# result from SVM\n",
        "beta0=SVMsl.intercept_[0]\n",
        "beta1=SVMsl.coef_[0][0]\n",
        "beta2=SVMsl.coef_[0][1]\n",
        "linex=np.arange(np.amin(Xqp[:,1]),np.amax(Xqp[:,1]), step=0.2)\n",
        "liney=-beta0/beta2-beta1/beta2*linex\n",
        "#result from quadratic programming\n",
        "#QPbeta0=QP[0]\n",
        "#QPbeta1=QP[1]\n",
        "#QPbeta2=QP[2]\n",
        "#QPlinex=np.arange(min(Xqp[1]),max(Xqp[1]), step=0.2)\n",
        "#QPliney=-QPbeta0/QPbeta2-QPbeta1/QPbeta2*QPlinex\n",
        "# plot\n",
        "plt.plot(X1[:,0], X1[:,1], 'ro')\n",
        "plt.plot(X2[:,0], X2[:,1], 'bo')\n",
        "plt.plot(linex, liney, '-g')\n",
        "#plt.plot(QPlinex, QPliney, '-r')\n",
        "plt.title(\"plot of the two classes of points\")\n",
        "plt.xlabel('X1')\n",
        "plt.ylabel('X2')\n",
        "plt.show()"
      ],
      "execution_count": 0,
      "outputs": [
        {
          "output_type": "display_data",
          "data": {
            "image/png": "[encoded data removed]",
            "text/plain": [
              "<Figure size 432x288 with 1 Axes>"
            ]
          },
          "metadata": {
            "tags": []
          }
        }
      ]
    },
    {
      "cell_type": "markdown",
      "metadata": {
        "id": "qlUu_76HXrbU",
        "colab_type": "text"
      },
      "source": [
        "## Different weight on error\n",
        "\n",
        "Assume classify 1 to (-1) has cost $C_1$, while classify (-1) to 1 has cost $C_2$, thus the original $C\\sum_{i=1}^n \\xi_i$ is now be $C_1\\sum_{i=1}^n \\frac{y_i^2+y_i}{2}\\xi_i + C_2 \\sum_{i=1}^n\\frac{y_i^2-y_i}{2}\\xi_i$. Everything else does not change, thus we only need to updated $a$ compared to the original SVM. "
      ]
    },
    {
      "cell_type": "code",
      "metadata": {
        "id": "cVqSme7nY2gF",
        "colab_type": "code",
        "colab": {}
      },
      "source": [
        "# get the number of parameters in beta, including beta_0\n",
        "nbeta=Xqp.shape[1]\n",
        "# get total number of samples\n",
        "nsample=Xqp.shape[0]\n",
        "G=np.identity(nbeta+nsample)\n",
        "G[0,0]=0\n",
        "for i in range(nbeta, nbeta+nsample):\n",
        "  G[i,i]=0"
      ],
      "execution_count": 0,
      "outputs": []
    },
    {
      "cell_type": "code",
      "metadata": {
        "id": "uOGsF8WYaSE8",
        "colab_type": "code",
        "colab": {}
      },
      "source": [
        "# create a\n",
        "# a= np.concatenate((a1, a2))\n",
        "# define cost C\n",
        "C1=Cbest*1.5\n",
        "C2=Cbest*0.5\n",
        "a1=np.zeros((nbeta))\n",
        "a2=C1*(y**2+y)*0.5+C2*(y**2-y)*0.5\n",
        "a= np.concatenate((a1, a2.ravel()))"
      ],
      "execution_count": 0,
      "outputs": []
    },
    {
      "cell_type": "code",
      "metadata": {
        "id": "T3lElv3haXMe",
        "colab_type": "code",
        "colab": {}
      },
      "source": [
        "# create C=np.concatenate(Q, O)\n",
        "Q11=y*Xqp\n",
        "Q12=np.zeros((nsample,nsample))\n",
        "Q1=np.hstack((Q11, Q12))\n",
        "Q21=np.zeros((nsample,nbeta))\n",
        "Q22=np.identity(nsample)\n",
        "Q2=np.hstack((Q21, Q22))\n",
        "Q=Q1+Q2\n",
        "# O=Q2\n",
        "C=np.concatenate((Q, Q2))"
      ],
      "execution_count": 0,
      "outputs": []
    },
    {
      "cell_type": "code",
      "metadata": {
        "id": "Y6s8pdeUabSY",
        "colab_type": "code",
        "colab": {}
      },
      "source": [
        "# create b\n",
        "# b = np.concatenate((b1, b2))\n",
        "b1=np.ones((nsample))\n",
        "b2=np.zeros((nsample))\n",
        "b=np.concatenate((b1, b2))"
      ],
      "execution_count": 0,
      "outputs": []
    },
    {
      "cell_type": "code",
      "metadata": {
        "id": "V0JxBFIAaeUX",
        "colab_type": "code",
        "outputId": "612103d5-74f6-4c2c-d4fd-2d5572d75153",
        "colab": {
          "base_uri": "https://localhost:8080/",
          "height": 35
        }
      },
      "source": [
        "from cvxpy import *\n",
        "import numpy as np\n",
        "\n",
        "# optimization variables\n",
        "#x = Variable(5)\n",
        "x=Variable(nsample+nbeta)\n",
        "\n",
        "# build optimization problem\n",
        "objective = Minimize( 0.5 * quad_form(x, G) + a.T * x )\n",
        "constraints = [ C * x >= b ]\n",
        "prob = Problem(objective, constraints)\n",
        "\n",
        "# solve optimization problem\n",
        "prob.solve()\n",
        "print (\"beta  =\", x.value[0:nbeta])"
      ],
      "execution_count": 0,
      "outputs": [
        {
          "output_type": "stream",
          "text": [
            "beta  = [-1.87198913  0.4485991  -0.10886486]\n"
          ],
          "name": "stdout"
        }
      ]
    },
    {
      "cell_type": "code",
      "metadata": {
        "id": "_p0YNLnTb8Lo",
        "colab_type": "code",
        "outputId": "1231e869-9dc4-4ac8-d0ca-fee0e4c987bd",
        "colab": {
          "base_uri": "https://localhost:8080/",
          "height": 295
        }
      },
      "source": [
        "# result from SVM\n",
        "beta0=SVMsl.intercept_[0]\n",
        "beta1=SVMsl.coef_[0][0]\n",
        "beta2=SVMsl.coef_[0][1]\n",
        "linex=np.arange(np.amin(Xqp[:,1]),np.amax(Xqp[:,1]), step=0.2)\n",
        "liney=-beta0/beta2-beta1/beta2*linex\n",
        "#result from quadratic programming\n",
        "QP=x.value[0:nbeta]\n",
        "QPbeta0=QP[0]\n",
        "QPbeta1=QP[1]\n",
        "QPbeta2=QP[2]\n",
        "QPlinex=linex\n",
        "QPliney=-QPbeta0/QPbeta2-QPbeta1/QPbeta2*QPlinex\n",
        "# plot\n",
        "plt.plot(X1[:,0], X1[:,1], 'ro')\n",
        "plt.plot(X2[:,0], X2[:,1], 'bo')\n",
        "plt.plot(linex, liney, '-g')\n",
        "plt.plot(QPlinex, QPliney, '-r')\n",
        "plt.title(\"plot of the two classes of points\")\n",
        "plt.xlabel('X1')\n",
        "plt.ylabel('X2')\n",
        "plt.show()"
      ],
      "execution_count": 0,
      "outputs": [
        {
          "output_type": "display_data",
          "data": {
            "image/png": "[encoded data removed]",
            "text/plain": [
              "<Figure size 432x288 with 1 Axes>"
            ]
          },
          "metadata": {
            "tags": []
          }
        }
      ]
    },
    {
      "cell_type": "markdown",
      "metadata": {
        "id": "Hjk_CqcShHXy",
        "colab_type": "text"
      },
      "source": [
        "### Consider Other type of error function\n",
        "If we want to give more weight on bigger $\\xi$ we can use $\\xi^2$ instead of $\\xi$ in the objective function. thus the original $C\\sum_{i=1}^n \\xi_i$ is now be $C_1\\sum_{i=1}^n \\frac{y_i^2+y_i}{2}\\xi_i^2 + C_2 \\sum_{i=1}^n\\frac{y_i^2-y_i}{2}\\xi_i^2$. Everything else does not change, thus we only need to updated $G$, and get rid of $a$ compared to the original SVM."
      ]
    },
    {
      "cell_type": "code",
      "metadata": {
        "id": "cIhWKW4HjceS",
        "colab_type": "code",
        "colab": {}
      },
      "source": [
        "# get the number of parameters in beta, including beta_0\n",
        "nbeta=Xqp.shape[1]\n",
        "# get total number of samples\n",
        "nsample=Xqp.shape[0]\n",
        "G=np.identity(nbeta+nsample)\n",
        "G[0,0]=0\n",
        "C1=Cbest*1.5\n",
        "C2=Cbest*0.5\n",
        "for i in range(nsample):\n",
        "  yi=y[i].item()\n",
        "  G[i+nbeta, i+nbeta]=C1*(yi**2+yi)+C2*(yi**2-yi)\n",
        "\n",
        "# create a\n",
        "# a= np.concatenate((a1, a2))\n",
        "# define cost C\n",
        "C1=Cbest*1.5\n",
        "C2=Cbest*0.5\n",
        "a1=np.zeros((nbeta))\n",
        "a2=C1*(y**2+y)*0.5+C2*(y**2-y)*0.5\n",
        "a= np.concatenate((a1, a2.ravel()))\n",
        "\n",
        "\n",
        "# create C=np.concatenate(Q, O)\n",
        "Q11=y*Xqp\n",
        "Q12=np.zeros((nsample,nsample))\n",
        "Q1=np.hstack((Q11, Q12))\n",
        "Q21=np.zeros((nsample,nbeta))\n",
        "Q22=np.identity(nsample)\n",
        "Q2=np.hstack((Q21, Q22))\n",
        "Q=Q1+Q2\n",
        "# O=Q2\n",
        "C=np.concatenate((Q, Q2))\n",
        "\n",
        "# create b\n",
        "# b = np.concatenate((b1, b2))\n",
        "b1=np.ones((nsample))\n",
        "b2=np.zeros((nsample))\n",
        "b=np.concatenate((b1, b2))"
      ],
      "execution_count": 0,
      "outputs": []
    },
    {
      "cell_type": "code",
      "metadata": {
        "id": "1apdrbjblYsH",
        "colab_type": "code",
        "outputId": "3083ecd7-3bab-44be-f350-72506dd6f57e",
        "colab": {
          "base_uri": "https://localhost:8080/",
          "height": 35
        }
      },
      "source": [
        "from cvxpy import *\n",
        "import numpy as np\n",
        "\n",
        "# optimization variables\n",
        "#x = Variable(5)\n",
        "x=Variable(nsample+nbeta)\n",
        "\n",
        "# build optimization problem\n",
        "objective = Minimize( 0.5 * quad_form(x, G))\n",
        "constraints = [ C * x >= b ]\n",
        "prob = Problem(objective, constraints)\n",
        "\n",
        "# solve optimization problem\n",
        "prob.solve()\n",
        "print (\"beta  =\", x.value[0:nbeta])"
      ],
      "execution_count": 0,
      "outputs": [
        {
          "output_type": "stream",
          "text": [
            "beta  = [-0.58330001  0.20157955 -0.07849172]\n"
          ],
          "name": "stdout"
        }
      ]
    },
    {
      "cell_type": "code",
      "metadata": {
        "id": "plW4uOPCmpvs",
        "colab_type": "code",
        "outputId": "54405476-6804-457d-86c0-f2e3f550d24e",
        "colab": {
          "base_uri": "https://localhost:8080/",
          "height": 295
        }
      },
      "source": [
        "# result from SVM\n",
        "beta0=SVMsl.intercept_[0]\n",
        "beta1=SVMsl.coef_[0][0]\n",
        "beta2=SVMsl.coef_[0][1]\n",
        "linex=np.arange(np.amin(Xqp[:,1]),np.amax(Xqp[:,1]), step=0.2)\n",
        "liney=-beta0/beta2-beta1/beta2*linex\n",
        "#result from quadratic programming\n",
        "QP=x.value[0:nbeta]\n",
        "QPbeta0=QP[0]\n",
        "QPbeta1=QP[1]\n",
        "QPbeta2=QP[2]\n",
        "QPlinex=linex\n",
        "QPliney=-QPbeta0/QPbeta2-QPbeta1/QPbeta2*QPlinex\n",
        "# plot\n",
        "plt.plot(X1[:,0], X1[:,1], 'ro')\n",
        "plt.plot(X2[:,0], X2[:,1], 'bo')\n",
        "plt.plot(linex, liney, '-g')\n",
        "plt.plot(QPlinex, QPliney, '-r')\n",
        "plt.title(\"plot of the two classes of points\")\n",
        "plt.xlabel('X1')\n",
        "plt.ylabel('X2')\n",
        "plt.show()"
      ],
      "execution_count": 0,
      "outputs": [
        {
          "output_type": "display_data",
          "data": {
            "image/png": "[encoded data removed]",
            "text/plain": [
              "<Figure size 432x288 with 1 Axes>"
            ]
          },
          "metadata": {
            "tags": []
          }
        }
      ]
    },
    {
      "cell_type": "markdown",
      "metadata": {
        "id": "rp1QsRkc6iQF",
        "colab_type": "text"
      },
      "source": [
        "### Another loss function\n",
        "consider another loss function, if missclassifying 1 to -1, the loss is $f(\\xi)=0 for 0\\leq\\xi\\leq1$, and $f(\\xi)=C_1(\\xi-1) for \\xi>1$. If missclassifying -1 to 1, the loss is $f(\\xi)=0 for 0\\leq\\xi\\leq1$ and $f(\\xi)=C_2(\\xi-1) for \\xi>1$"
      ]
    },
    {
      "cell_type": "markdown",
      "metadata": {
        "id": "2mD8D32l9fLm",
        "colab_type": "text"
      },
      "source": [
        "### Make prediction"
      ]
    },
    {
      "cell_type": "code",
      "metadata": {
        "id": "9AyijKiE9gUn",
        "colab_type": "code",
        "outputId": "93a5ce68-836d-42c1-f052-1a7fb14226e5",
        "colab": {
          "base_uri": "https://localhost:8080/",
          "height": 35
        }
      },
      "source": [
        "## make prediction\n",
        "Xqp=np.asmatrix(Xqp)\n",
        "QP=np.asmatrix(QP)\n",
        "ypred=-np.ones((nsample,1))\n",
        "ypred[Xqp@QP.T>0]=1\n",
        "# correct prediction\n",
        "np.sum(y==ypred)/nsample"
      ],
      "execution_count": 0,
      "outputs": [
        {
          "output_type": "execute_result",
          "data": {
            "text/plain": [
              "0.44"
            ]
          },
          "metadata": {
            "tags": []
          },
          "execution_count": 257
        }
      ]
    },
    {
      "cell_type": "code",
      "metadata": {
        "id": "x9kzjyJm_Wsw",
        "colab_type": "code",
        "outputId": "0d7195db-dce9-4253-85ba-644bb9f90b55",
        "colab": {
          "base_uri": "https://localhost:8080/",
          "height": 35
        }
      },
      "source": [
        "# SVM result\n",
        "ypredsvm=SVMsl.predict(X)\n",
        "# correct prediction\n",
        "np.sum(y.ravel()==ypredsvm)/nsample"
      ],
      "execution_count": 0,
      "outputs": [
        {
          "output_type": "execute_result",
          "data": {
            "text/plain": [
              "0.96"
            ]
          },
          "metadata": {
            "tags": []
          },
          "execution_count": 258
        }
      ]
    },
    {
      "cell_type": "markdown",
      "metadata": {
        "id": "ByjD_DNe5JdC",
        "colab_type": "text"
      },
      "source": [
        "### Calcuate the Loss based on unequal loss\n",
        "\n",
        "Calculate the loss if we assume unequal loss for misclassifying these two classes. Assume $Loss1$ for missclassifying $1$ to $(-1)$, and assume $Loss2$ for missclassifying $(-1)$ to $1$. "
      ]
    },
    {
      "cell_type": "code",
      "metadata": {
        "id": "SmYfFRYZ9lzB",
        "colab_type": "code",
        "outputId": "8d2da85d-460c-424d-e0f8-ef648b2bcbbc",
        "colab": {
          "base_uri": "https://localhost:8080/",
          "height": 52
        }
      },
      "source": [
        "Loss1=3\n",
        "Loss2=1\n",
        "# for svm\n",
        "Losssvm=0\n",
        "for i in range(nsample):\n",
        "  yi=y[i].item()\n",
        "  if yi-ypredsvm[i]==2:\n",
        "    Losssvm=Losssvm+Loss1\n",
        "  if yi-ypredsvm[i]==-2:\n",
        "    Losssvm=Losssvm+Loss2\n",
        "print(\"Loss from SVM\", Losssvm)\n",
        "\n",
        "# for quadratic programming\n",
        "Lossqp=0\n",
        "for i in range(nsample):\n",
        "  yi=y[i].item()\n",
        "  if yi-ypred[i]==2:\n",
        "    Lossqp=Lossqp+Loss1\n",
        "  if yi-ypred[i]==-2:\n",
        "    Lossqp=Lossqp+Loss2\n",
        "print(\"Loss from square xi loss\", Lossqp)"
      ],
      "execution_count": 0,
      "outputs": [
        {
          "output_type": "stream",
          "text": [
            "Loss from SVM 3\n",
            "Loss from square xi loss 18\n"
          ],
          "name": "stdout"
        }
      ]
    },
    {
      "cell_type": "markdown",
      "metadata": {
        "id": "zEHoCL4sApi4",
        "colab_type": "text"
      },
      "source": [
        "## Grid search to find the best parameter giving the least loss\n"
      ]
    },
    {
      "cell_type": "code",
      "metadata": {
        "id": "CU91dJ1C-lFC",
        "colab_type": "code",
        "colab": {}
      },
      "source": [
        "# first create the function to get loss\n",
        "def getloss(X, y, Loss1, Loss2, beta0, beta1, beta2):\n",
        "  # X is the covariate matrix, with dim of n*3\n",
        "  # y is the label, +1 and -1\n",
        "  # Loss1 is the loss for classifying 1 to -1\n",
        "  # Loss2 is the loss for classifying -1 to 1\n",
        "  # beta0, beta1, and beta2 are the coefficient for decision plane\n",
        "  # decision function is y=beta0+beta1*x1+beta2*x2\n",
        "  import numpy as np\n",
        "  X=np.asmatrix(X)\n",
        "  beta=np.array([beta0, beta1, beta2])\n",
        "  beta=np.asmatrix(beta)\n",
        "  ypred=-np.ones((X.shape[0],1))\n",
        "  ypred[X@beta.T>0]=1\n",
        "  Loss=0\n",
        "  for i in range(X.shape[0]):\n",
        "    yi=y[i].item()\n",
        "    if yi-ypred[i]==2:\n",
        "      Loss=Loss+Loss1\n",
        "    if yi-ypred[i]==-2:\n",
        "      Loss=Loss+Loss2\n",
        "  return(Loss)\n",
        "\n",
        "# testQP\n",
        "# getloss(X=Xqp, y=y, Loss1=3, Loss2=1, beta0=0.3518948, beta1=0.15046421, beta2=-0.1306985)\n",
        "# test SVM\n",
        "# getloss(X=Xqp, y=y, Loss1=3, Loss2=1, beta0=-0.01818894, beta1=0.30520880471687156, beta2=-0.2588753707983081)"
      ],
      "execution_count": 0,
      "outputs": []
    },
    {
      "cell_type": "markdown",
      "metadata": {
        "id": "tJBP_wTAF3wP",
        "colab_type": "text"
      },
      "source": [
        "### Grid search for best parameter combination\n"
      ]
    },
    {
      "cell_type": "code",
      "metadata": {
        "id": "w3lPOLMSHKQ_",
        "colab_type": "code",
        "outputId": "887f3446-bd08-4c54-8d5e-656b94a04232",
        "colab": {
          "base_uri": "https://localhost:8080/",
          "height": 225
        }
      },
      "source": [
        "betabest=np.array([0,0,0])\n",
        "beta0v=np.arange(-10,10,step=1)\n",
        "beta1v=np.arange(-10,10,step=1)\n",
        "beta2v=np.arange(-10,10,step=1)\n",
        "Loss1=3\n",
        "Loss2=1\n",
        "Lossmin=Xqp.shape[0]*Loss1\n",
        "# round 1\n",
        "for beta0 in beta0v:\n",
        "  for beta1 in beta1v:\n",
        "    for beta2 in beta2v:\n",
        "      temploss=getloss(X=Xqp, y=y, Loss1=Loss1, Loss2=Loss2, beta0=beta0, beta1=beta1, beta2=beta2)\n",
        "      if temploss<Lossmin:\n",
        "        betabest=np.array([beta0,beta1,beta2])\n",
        "        Lossmin=temploss\n",
        "print(\"Round 1\")\n",
        "print(\"best parameter combination is \", betabest)\n",
        "print(\"minimal loss is \", Lossmin)\n",
        "# round 2\n",
        "beta0v=np.arange(betabest[0]-1, betabest[0]+1, step=0.2)\n",
        "beta1v=np.arange(betabest[1]-1, betabest[1]+1, step=0.2)\n",
        "beta2v=np.arange(betabest[2]-1, betabest[2]+1, step=0.2)\n",
        "for beta0 in beta0v:\n",
        "  for beta1 in beta1v:\n",
        "    for beta2 in beta2v:\n",
        "      temploss=getloss(X=Xqp, y=y, Loss1=Loss1, Loss2=Loss2, beta0=beta0, beta1=beta1, beta2=beta2)\n",
        "      if temploss<Lossmin:\n",
        "        betabest=np.array([beta0,beta1,beta2])\n",
        "        Lossmin=temploss\n",
        "print(\"Round 2\")\n",
        "print(\"best parameter combination is \", betabest)\n",
        "print(\"minimal loss is \", Lossmin)\n",
        "# round 3\n",
        "beta0v=np.arange(betabest[0]-0.2, betabest[0]+0.2, step=0.04)\n",
        "beta1v=np.arange(betabest[1]-0.2, betabest[1]+0.2, step=0.04)\n",
        "beta2v=np.arange(betabest[2]-0.2, betabest[2]+0.2, step=0.04)\n",
        "for beta0 in beta0v:\n",
        "  for beta1 in beta1v:\n",
        "    for beta2 in beta2v:\n",
        "      temploss=getloss(X=Xqp, y=y, Loss1=Loss1, Loss2=Loss2, beta0=beta0, beta1=beta1, beta2=beta2)\n",
        "      if temploss<Lossmin:\n",
        "        betabest=np.array([beta0,beta1,beta2])\n",
        "        Lossmin=temploss\n",
        "print(\"Round 3\")\n",
        "print(\"best parameter combination is \", betabest)\n",
        "print(\"minimal loss is \", Lossmin)\n",
        "# round 4\n",
        "beta0v=np.arange(betabest[0]-0.04, betabest[0]+0.04, step=0.01)\n",
        "beta1v=np.arange(betabest[1]-0.04, betabest[1]+0.04, step=0.01)\n",
        "beta2v=np.arange(betabest[2]-0.04, betabest[2]+0.04, step=0.01)\n",
        "for beta0 in beta0v:\n",
        "  for beta1 in beta1v:\n",
        "    for beta2 in beta2v:\n",
        "      temploss=getloss(X=Xqp, y=y, Loss1=Loss1, Loss2=Loss2, beta0=beta0, beta1=beta1, beta2=beta2)\n",
        "      if temploss<Lossmin:\n",
        "        betabest=np.array([beta0,beta1,beta2])\n",
        "        Lossmin=temploss\n",
        "\n",
        "print(\"Final\")\n",
        "print(\"best parameter combination is \", betabest)\n",
        "print(\"minimal loss is \", Lossmin)"
      ],
      "execution_count": 0,
      "outputs": [
        {
          "output_type": "stream",
          "text": [
            "Round 1\n",
            "best parameter combination is  [-10   2   0]\n",
            "minimal loss is  3\n",
            "Round 2\n",
            "best parameter combination is  [-10   2   0]\n",
            "minimal loss is  3\n",
            "Round 3\n",
            "best parameter combination is  [-10   2   0]\n",
            "minimal loss is  3\n",
            "Final\n",
            "best parameter combination is  [-10   2   0]\n",
            "minimal loss is  3\n"
          ],
          "name": "stdout"
        }
      ]
    },
    {
      "cell_type": "code",
      "metadata": {
        "id": "3zHvKOfhMSMY",
        "colab_type": "code",
        "colab": {}
      },
      "source": [
        "N1test=50\n",
        "N2test=200\n",
        "np.random.seed(30)\n",
        "X01test = np.ones((N1test,1))\n",
        "X02test = np.ones((N2test,1))\n",
        "X1test=np.random.multivariate_normal(mu1,Sigma1, size=N1test)\n",
        "y1test=np.ones((N1test,1))\n",
        "y2test=-np.ones((N2test,1))\n",
        "X2test=np.random.multivariate_normal(mu2,Sigma2, size=N2test)\n",
        "Redxtest=np.hstack((X01test,X1test))\n",
        "Bluextest=np.hstack((X02test,X2test))\n",
        "# combine two classes of dots\n",
        "Xtest=np.concatenate((X1test,X2test))\n",
        "Xqptest=np.concatenate((Redxtest, Bluextest))\n",
        "ytest=np.concatenate((y1test,y2test))"
      ],
      "execution_count": 0,
      "outputs": []
    },
    {
      "cell_type": "code",
      "metadata": {
        "id": "_fR2WSq_RwUe",
        "colab_type": "code",
        "outputId": "110b1e6e-741b-4670-e0d7-6c8e0ff6761a",
        "colab": {
          "base_uri": "https://localhost:8080/",
          "height": 69
        }
      },
      "source": [
        "# get loss for test data from SVM\n",
        "testlossSVM=getloss(X=Xqptest, y=ytest, Loss1=3, Loss2=1, beta0=SVMsl.intercept_, beta1=SVMsl.coef_[0][0], beta2=SVMsl.coef_[0][1])\n",
        "print(\"test loss from SVM\", testlossSVM)\n",
        "# get loss for test data from grid search\n",
        "testlossgrid=getloss(X=Xqptest, y=ytest, Loss1=3, Loss2=1, beta0=betabest[0], beta1=betabest[1], beta2=betabest[2])\n",
        "print(\"test loss from grid search\", testlossgrid)\n",
        "# get loss for test data from quadratic programming\n",
        "testlossqp=getloss(X=Xqptest, y=ytest, Loss1=3, Loss2=1, beta0=QP[0,0], beta1=QP[0,1], beta2=QP[0,2])\n",
        "print(\"test loss from qp with square loss\", testlossqp)"
      ],
      "execution_count": 0,
      "outputs": [
        {
          "output_type": "stream",
          "text": [
            "test loss from SVM 94\n",
            "test loss from grid search 104\n",
            "test loss from qp with square loss 181\n"
          ],
          "name": "stdout"
        }
      ]
    },
    {
      "cell_type": "code",
      "metadata": {
        "id": "ap_gfpu0WUKh",
        "colab_type": "code",
        "colab": {}
      },
      "source": [
        ""
      ],
      "execution_count": 0,
      "outputs": []
    },
    {
      "cell_type": "code",
      "metadata": {
        "id": "rz3W42CUfv_5",
        "colab_type": "code",
        "colab": {}
      },
      "source": [
        ""
      ],
      "execution_count": 0,
      "outputs": []
    }
  ]
}