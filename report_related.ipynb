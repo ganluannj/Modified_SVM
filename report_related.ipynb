{
  "nbformat": 4,
  "nbformat_minor": 0,
  "metadata": {
    "colab": {
      "name": "Math680_course_project_presentation_related.ipynb",
      "provenance": [],
      "collapsed_sections": []
    },
    "kernelspec": {
      "name": "python3",
      "display_name": "Python 3"
    }
  },
  "cells": [
    {
      "cell_type": "code",
      "metadata": {
        "id": "I5p9k0ffOzNb",
        "colab_type": "code",
        "outputId": "1fb74c04-81ec-4562-af3c-a13cb80850fa",
        "colab": {
          "base_uri": "https://localhost:8080/",
          "height": 35
        }
      },
      "source": [
        "import numpy as np\n",
        "import random \n",
        "import math\n",
        "from scipy.stats import norm\n",
        "import matplotlib.pyplot as plt\n",
        "from sklearn.svm import SVC\n",
        "from sklearn.model_selection import GridSearchCV\n",
        "! CVXOPT_BUILD_GLPK=1 pip install cvxopt"
      ],
      "execution_count": 2,
      "outputs": [
        {
          "output_type": "stream",
          "text": [
            "Requirement already satisfied: cvxopt in /usr/local/lib/python3.6/dist-packages (1.2.3)\n"
          ],
          "name": "stdout"
        }
      ]
    },
    {
      "cell_type": "markdown",
      "metadata": {
        "id": "qBVwuNfwBu2A",
        "colab_type": "text"
      },
      "source": [
        "## Generate Balanced Data and apply SVM"
      ]
    },
    {
      "cell_type": "code",
      "metadata": {
        "id": "xmfZbQIjPGRP",
        "colab_type": "code",
        "outputId": "fef0651b-c321-469a-c005-9049af6720a7",
        "colab": {
          "base_uri": "https://localhost:8080/",
          "height": 295
        }
      },
      "source": [
        "# first generate and plot the data \n",
        "# balanced case\n",
        "# generate red and green dots from two Gaussian distribution\n",
        "N1=200\n",
        "N2=200\n",
        "np.random.seed(20)\n",
        "X01 = np.ones((N1,1))\n",
        "X02 = np.ones((N2,1))\n",
        "mu1=[4,1]\n",
        "Sigma1=[[5,0], [0,5]]\n",
        "mu2=[1,4]\n",
        "Sigma2=[[5,0], [0,5]]\n",
        "X1=np.random.multivariate_normal(mu1,Sigma1, size=N1)\n",
        "y1=np.ones((N1,1))\n",
        "y2=-np.ones((N2,1))\n",
        "X2=np.random.multivariate_normal(mu2,Sigma2, size=N2)\n",
        "Redx=np.hstack((X01,X1))\n",
        "Bluex=np.hstack((X02,X2))\n",
        "# combine two classes of dots\n",
        "X=np.concatenate((X1,X2))\n",
        "Xqp=np.concatenate((Redx, Bluex))\n",
        "y=np.concatenate((y1,y2))\n",
        "# plot these dots\n",
        "plt.plot(X1[:,0], X1[:,1], 'ro')\n",
        "plt.plot(X2[:,0], X2[:,1], 'bo')\n",
        "plt.title(\"plot of the two classes of points\")\n",
        "plt.xlabel('X1')\n",
        "plt.ylabel('X2')\n",
        "plt.show()"
      ],
      "execution_count": 3,
      "outputs": [
        {
          "output_type": "display_data",
          "data": {
            "image/png": "[encoded data removed]",
            "text/plain": [
              "<Figure size 432x288 with 1 Axes>"
            ]
          },
          "metadata": {
            "tags": []
          }
        }
      ]
    },
    {
      "cell_type": "code",
      "metadata": {
        "id": "x1m9wzJyZX2V",
        "colab_type": "code",
        "outputId": "794c2b0b-643e-43f8-b07d-e5957667c2aa",
        "colab": {
          "base_uri": "https://localhost:8080/",
          "height": 313
        }
      },
      "source": [
        "param_grid = {'C': (0.1)**np.arange(0,3)}\n",
        "search = GridSearchCV(SVC(kernel='linear'), param_grid, cv=5)\n",
        "search.fit(X, y.ravel())\n",
        "I=-math.log10(search.best_params_['C'])\n",
        "param_grid2 = {'C': (0.1)**np.arange(I-0.9,I+1, step=0.2)}\n",
        "search2 = GridSearchCV(SVC(kernel='linear'), param_grid2, cv=5)\n",
        "search2.fit(X, y.ravel())\n",
        "Cbest=search2.best_params_['C']\n",
        "# SVM\n",
        "SVMsl=SVC(kernel='linear', C=Cbest)\n",
        "SVMsl.fit(X, y.ravel())\n",
        "print (\"coef of SVM from scikit-learn is \", [SVMsl.intercept_,SVMsl.coef_[0][0], SVMsl.coef_[0][1]])\n",
        "# result from SVM\n",
        "beta0=SVMsl.intercept_[0]\n",
        "beta1=SVMsl.coef_[0][0]\n",
        "beta2=SVMsl.coef_[0][1]\n",
        "# for later plot use\n",
        "BETA0=beta0\n",
        "BETA1=beta1\n",
        "BETA2=beta2\n",
        "linex=np.arange(np.amin(Xqp[:,1]),np.amax(Xqp[:,1]), step=0.2)\n",
        "liney=-beta0/beta2-beta1/beta2*linex\n",
        "#result from quadratic programming\n",
        "#QPbeta0=QP[0]\n",
        "#QPbeta1=QP[1]\n",
        "#QPbeta2=QP[2]\n",
        "#QPlinex=np.arange(min(Xqp[1]),max(Xqp[1]), step=0.2)\n",
        "#QPliney=-QPbeta0/QPbeta2-QPbeta1/QPbeta2*QPlinex\n",
        "# plot\n",
        "plt.plot(X1[:,0], X1[:,1], 'ro')\n",
        "plt.plot(X2[:,0], X2[:,1], 'bo')\n",
        "plt.plot(linex, liney, '-r')\n",
        "#plt.plot(QPlinex, QPliney, '-r')\n",
        "plt.title(\"SVM for balanced case\")\n",
        "plt.xlabel('X1')\n",
        "plt.ylabel('X2')\n",
        "plt.ylim(-7.5,12)\n",
        "plt.xlim(-6,10)\n",
        "plt.show()"
      ],
      "execution_count": 4,
      "outputs": [
        {
          "output_type": "stream",
          "text": [
            "coef of SVM from scikit-learn is  [array([-0.12569298]), 0.4699515173434078, -0.34682487602321177]\n"
          ],
          "name": "stdout"
        },
        {
          "output_type": "display_data",
          "data": {
            "image/png": "[encoded data removed]",
            "text/plain": [
              "<Figure size 432x288 with 1 Axes>"
            ]
          },
          "metadata": {
            "tags": []
          }
        }
      ]
    },
    {
      "cell_type": "markdown",
      "metadata": {
        "id": "B_A3RCUoCXJZ",
        "colab_type": "text"
      },
      "source": [
        "## Generate unbalanced data and apply SVM"
      ]
    },
    {
      "cell_type": "code",
      "metadata": {
        "id": "anwTW4j8PRHk",
        "colab_type": "code",
        "outputId": "79491ed5-8f92-4a4c-d244-c2a90c8fe387",
        "colab": {
          "base_uri": "https://localhost:8080/",
          "height": 295
        }
      },
      "source": [
        "# first generate and plot the data \n",
        "# balanced case\n",
        "# generate red and green dots from two Gaussian distribution\n",
        "N1=40\n",
        "N2=360\n",
        "np.random.seed(20)\n",
        "X01 = np.ones((N1,1))\n",
        "X02 = np.ones((N2,1))\n",
        "mu1=[4,1]\n",
        "Sigma1=[[5,0], [0,5]]\n",
        "mu2=[1,4]\n",
        "Sigma2=[[5,0], [0,5]]\n",
        "X1=np.random.multivariate_normal(mu1,Sigma1, size=N1)\n",
        "y1=np.ones((N1,1))\n",
        "y2=-np.ones((N2,1))\n",
        "X2=np.random.multivariate_normal(mu2,Sigma2, size=N2)\n",
        "Redx=np.hstack((X01,X1))\n",
        "Bluex=np.hstack((X02,X2))\n",
        "# combine two classes of dots\n",
        "X=np.concatenate((X1,X2))\n",
        "Xqp=np.concatenate((Redx, Bluex))\n",
        "y=np.concatenate((y1,y2))\n",
        "# plot these dots\n",
        "plt.plot(X1[:,0], X1[:,1], 'ro')\n",
        "plt.plot(X2[:,0], X2[:,1], 'bo')\n",
        "plt.title(\"plot of the two classes of points\")\n",
        "plt.xlabel('X1')\n",
        "plt.ylabel('X2')\n",
        "plt.ylim(-7.5,12)\n",
        "plt.show()"
      ],
      "execution_count": 5,
      "outputs": [
        {
          "output_type": "display_data",
          "data": {
            "image/png": "[encoded data removed]",
            "text/plain": [
              "<Figure size 432x288 with 1 Axes>"
            ]
          },
          "metadata": {
            "tags": []
          }
        }
      ]
    },
    {
      "cell_type": "code",
      "metadata": {
        "id": "ZDZ_CZpIPsRL",
        "colab_type": "code",
        "outputId": "7ad85474-9a7d-4c69-db29-54fb78d58a95",
        "colab": {
          "base_uri": "https://localhost:8080/",
          "height": 313
        }
      },
      "source": [
        "param_grid = {'C': (0.1)**np.arange(0,3)}\n",
        "search = GridSearchCV(SVC(kernel='linear'), param_grid, cv=5)\n",
        "search.fit(X, y.ravel())\n",
        "I=-math.log10(search.best_params_['C'])\n",
        "param_grid2 = {'C': (0.1)**np.arange(I-0.9,I+1, step=0.2)}\n",
        "search2 = GridSearchCV(SVC(kernel='linear'), param_grid2, cv=5)\n",
        "search2.fit(X, y.ravel())\n",
        "Cbest=search2.best_params_['C']\n",
        "# SVM\n",
        "SVMsl=SVC(kernel='linear', C=Cbest)\n",
        "SVMsl.fit(X, y.ravel())\n",
        "print (\"coef of SVM from scikit-learn is \", [SVMsl.intercept_,SVMsl.coef_[0][0], SVMsl.coef_[0][1]])\n",
        "# result from SVM, unbalanced data\n",
        "beta0=SVMsl.intercept_[0]\n",
        "beta1=SVMsl.coef_[0][0]\n",
        "beta2=SVMsl.coef_[0][1]\n",
        "linex=np.arange(np.amin(Xqp[:,1]),np.amax(Xqp[:,1]), step=0.2)\n",
        "liney=-beta0/beta2-beta1/beta2*linex\n",
        "# result from SVM, balanced data\n",
        "# plot\n",
        "lineX=linex\n",
        "lineY=-BETA0/BETA2-BETA1/BETA2*lineX\n",
        "plt.plot(X1[:,0], X1[:,1], 'ro')\n",
        "plt.plot(X2[:,0], X2[:,1], 'bo')\n",
        "plt.plot(linex, liney, '-g')\n",
        "plt.plot(lineX, lineY, '-r')\n",
        "plt.title(\"SVM of unbalanced case\")\n",
        "plt.xlabel('X1')\n",
        "plt.ylabel('X2')\n",
        "plt.ylim(-7.5,12)\n",
        "plt.xlim(-6,10)\n",
        "plt.show()"
      ],
      "execution_count": 6,
      "outputs": [
        {
          "output_type": "stream",
          "text": [
            "coef of SVM from scikit-learn is  [array([-1.4264573]), 0.3414983909805045, -0.29867202509079505]\n"
          ],
          "name": "stdout"
        },
        {
          "output_type": "display_data",
          "data": {
            "image/png": "[encoded data removed]",
            "text/plain": [
              "<Figure size 432x288 with 1 Axes>"
            ]
          },
          "metadata": {
            "tags": []
          }
        }
      ]
    },
    {
      "cell_type": "markdown",
      "metadata": {
        "id": "g1XpYusXCkQy",
        "colab_type": "text"
      },
      "source": [
        "## Overall accuacy and accuacy for class one"
      ]
    },
    {
      "cell_type": "code",
      "metadata": {
        "id": "okBM4UepCv1l",
        "colab_type": "code",
        "outputId": "097ea986-2ac7-4214-ff4d-2606ab95bb4a",
        "colab": {
          "base_uri": "https://localhost:8080/",
          "height": 173
        }
      },
      "source": [
        "# create data based on the proporation and calculate overall accuacy \n",
        "# and accuacy for one class\n",
        "prop=np.arange(0.1,1,step=0.1)\n",
        "N=2000\n",
        "Allacc=list()\n",
        "Oneacc=list()\n",
        "np.random.seed(10)\n",
        "for p in prop:\n",
        "  print(p)\n",
        "  # generate simulation dataset\n",
        "  N1=int(N*p)\n",
        "  N2=int(N-N1)\n",
        "  X01 = np.ones((N1,1))\n",
        "  X02 = np.ones((N2,1))\n",
        "  mu1=[4,1]\n",
        "  Sigma1=[[5,0], [0,5]]\n",
        "  mu2=[1,4]\n",
        "  Sigma2=[[5,0], [0,5]]\n",
        "  X1=np.random.multivariate_normal(mu1,Sigma1, size=N1)\n",
        "  y1=np.ones((N1,1))\n",
        "  y2=-np.ones((N2,1))\n",
        "  X2=np.random.multivariate_normal(mu2,Sigma2, size=N2)\n",
        "  Redx=np.hstack((X01,X1))\n",
        "  Bluex=np.hstack((X02,X2))\n",
        "  # combine two classes of dots\n",
        "  X=np.concatenate((X1,X2))\n",
        "  Xqp=np.concatenate((Redx, Bluex))\n",
        "  y=np.concatenate((y1,y2))\n",
        "\n",
        "  # SVM with the best C\n",
        "  param_grid = {'C': (0.1)**np.arange(-2,3)}\n",
        "  search = GridSearchCV(SVC(kernel='linear'), param_grid, cv=5)\n",
        "  search.fit(X, y.ravel())\n",
        "  I=-math.log10(search.best_params_['C'])\n",
        "  param_grid2 = {'C': (0.1)**np.arange(I-0.9,I+1, step=0.2)}\n",
        "  search2 = GridSearchCV(SVC(kernel='linear'), param_grid2, cv=5)\n",
        "  search2.fit(X, y.ravel())\n",
        "  Cbest=search2.best_params_['C']\n",
        "  SVMsl=SVC(kernel='linear', C=Cbest)\n",
        "  SVMsl.fit(X, y.ravel())\n",
        "  # get the overall accuacy\n",
        "  ypred=SVMsl.predict(X)\n",
        "  Allacc.append(sum(y.ravel()==ypred)/N)\n",
        "  # get the accuacy for class with proportion of p\n",
        "  Oneacc.append(sum(y[0:N1].ravel()==ypred[0:N1])/N1)"
      ],
      "execution_count": 14,
      "outputs": [
        {
          "output_type": "stream",
          "text": [
            "0.1\n",
            "0.2\n",
            "0.30000000000000004\n",
            "0.4\n",
            "0.5\n",
            "0.6\n",
            "0.7000000000000001\n",
            "0.8\n",
            "0.9\n"
          ],
          "name": "stdout"
        }
      ]
    },
    {
      "cell_type": "code",
      "metadata": {
        "id": "GWgUCFKWFbDU",
        "colab_type": "code",
        "outputId": "f05be72c-633a-4613-8096-f3a1e14554b7",
        "colab": {
          "base_uri": "https://localhost:8080/",
          "height": 325
        }
      },
      "source": [
        "# plot out the result\n",
        "import pandas as pd\n",
        "df=pd.DataFrame({'x': prop, 'Overall': Allacc, 'Class1': Oneacc})\n",
        "plt.plot( 'x', 'Overall', data=df, marker='o', markerfacecolor='blue', markersize=8, color='blue', linewidth=2)\n",
        "plt.plot( 'x', 'Class1', data=df, marker='o', markerfacecolor='red', markersize=8, color='red', linewidth=2)\n",
        "plt.xlabel(\"Class1 Proportion\", fontsize='xx-large')\n",
        "plt.ylabel(\"Prediction Accuracy\", fontsize='xx-large')\n",
        "plt.title(\"Prediction Accuracy for Overall and One Class\", fontsize='xx-large')\n",
        "plt.legend(fontsize = 'xx-large')"
      ],
      "execution_count": 17,
      "outputs": [
        {
          "output_type": "execute_result",
          "data": {
            "text/plain": [
              "<matplotlib.legend.Legend at 0x7f6c3cfbdcc0>"
            ]
          },
          "metadata": {
            "tags": []
          },
          "execution_count": 17
        },
        {
          "output_type": "display_data",
          "data": {
            "image/png": "[encoded data removed]",
            "text/plain": [
              "<Figure size 432x288 with 1 Axes>"
            ]
          },
          "metadata": {
            "tags": []
          }
        }
      ]
    },
    {
      "cell_type": "markdown",
      "metadata": {
        "id": "m0KXFffOUKhD",
        "colab_type": "text"
      },
      "source": [
        "## Find best model by grid search"
      ]
    },
    {
      "cell_type": "markdown",
      "metadata": {
        "id": "fJyBd2DGYW-f",
        "colab_type": "text"
      },
      "source": [
        "### Create training data"
      ]
    },
    {
      "cell_type": "code",
      "metadata": {
        "id": "rBTlXtoPUQ1D",
        "colab_type": "code",
        "outputId": "e3a043e5-d06f-4142-9dec-0b0f85b59855",
        "colab": {
          "base_uri": "https://localhost:8080/",
          "height": 35
        }
      },
      "source": [
        "# create training data\n",
        "N=400\n",
        "np.random.seed(50)\n",
        "p=0.2\n",
        "N1=int(N*p)\n",
        "N2=int(N-N1)\n",
        "X01 = np.ones((N1,1))\n",
        "X02 = np.ones((N2,1))\n",
        "mu1=[4,1]\n",
        "Sigma1=[[5,0], [0,5]]\n",
        "mu2=[1,4]\n",
        "Sigma2=[[5,0], [0,5]]\n",
        "X1=np.random.multivariate_normal(mu1,Sigma1, size=N1)\n",
        "y1=np.ones((N1,1))\n",
        "y2=-np.ones((N2,1))\n",
        "X2=np.random.multivariate_normal(mu2,Sigma2, size=N2)\n",
        "Redx=np.hstack((X01,X1))\n",
        "Bluex=np.hstack((X02,X2))\n",
        "# combine two classes of dots\n",
        "X=np.concatenate((X1,X2))\n",
        "Xqp=np.concatenate((Redx, Bluex))\n",
        "y=np.concatenate((y1,y2))\n",
        "\n",
        "# SVM with the best C\n",
        "param_grid = {'C': (0.1)**np.arange(-2,3)}\n",
        "search = GridSearchCV(SVC(kernel='linear'), param_grid, cv=5)\n",
        "search.fit(X, y.ravel())\n",
        "I=-math.log10(search.best_params_['C'])\n",
        "param_grid2 = {'C': (0.1)**np.arange(I-0.9,I+1, step=0.2)}\n",
        "search2 = GridSearchCV(SVC(kernel='linear'), param_grid2, cv=5)\n",
        "search2.fit(X, y.ravel())\n",
        "Cbest=search2.best_params_['C']\n",
        "Cbest"
      ],
      "execution_count": 0,
      "outputs": [
        {
          "output_type": "execute_result",
          "data": {
            "text/plain": [
              "0.19952623149688795"
            ]
          },
          "metadata": {
            "tags": []
          },
          "execution_count": 173
        }
      ]
    },
    {
      "cell_type": "code",
      "metadata": {
        "id": "0mKZbMl2L5Kq",
        "colab_type": "code",
        "outputId": "6aa31375-8eae-4497-9660-f388446750ed",
        "colab": {
          "base_uri": "https://localhost:8080/",
          "height": 35
        }
      },
      "source": [
        "y.shape"
      ],
      "execution_count": 0,
      "outputs": [
        {
          "output_type": "execute_result",
          "data": {
            "text/plain": [
              "(400, 1)"
            ]
          },
          "metadata": {
            "tags": []
          },
          "execution_count": 174
        }
      ]
    },
    {
      "cell_type": "markdown",
      "metadata": {
        "id": "K5QSO0TEYZ8Z",
        "colab_type": "text"
      },
      "source": [
        "### Create test data"
      ]
    },
    {
      "cell_type": "code",
      "metadata": {
        "id": "qxD7wgM-X5ku",
        "colab_type": "code",
        "colab": {}
      },
      "source": [
        "# Create test data\n",
        "Ntest=400\n",
        "p=0.2\n",
        "N1test=int(Ntest*p)\n",
        "N2test=int(Ntest-N1test)\n",
        "np.random.seed(40)\n",
        "X01test = np.ones((N1test,1))\n",
        "X02test = np.ones((N2test,1))\n",
        "X1test=np.random.multivariate_normal(mu1,Sigma1, size=N1test)\n",
        "y1test=np.ones((N1test,1))\n",
        "y2test=-np.ones((N2test,1))\n",
        "X2test=np.random.multivariate_normal(mu2,Sigma2, size=N2test)\n",
        "Redxtest=np.hstack((X01test,X1test))\n",
        "Bluextest=np.hstack((X02test,X2test))\n",
        "# combine two classes of dots\n",
        "Xtest=np.concatenate((X1test,X2test))\n",
        "Xqptest=np.concatenate((Redxtest, Bluextest))\n",
        "ytest=np.concatenate((y1test,y2test))"
      ],
      "execution_count": 0,
      "outputs": []
    },
    {
      "cell_type": "markdown",
      "metadata": {
        "id": "s8yEsTwKXkOH",
        "colab_type": "text"
      },
      "source": [
        "### Define a function to calculate loss\n"
      ]
    },
    {
      "cell_type": "code",
      "metadata": {
        "id": "YvyIote_VPpg",
        "colab_type": "code",
        "colab": {}
      },
      "source": [
        "# first create the function to get loss\n",
        "def getloss(X, y, Loss1, Loss2, beta0, beta1, beta2):\n",
        "  # X is the covariate matrix, with dim of n*3\n",
        "  # y is the label, +1 and -1\n",
        "  # Loss1 is the loss for classifying 1 to -1\n",
        "  # Loss2 is the loss for classifying -1 to 1\n",
        "  # beta0, beta1, and beta2 are the coefficient for decision plane\n",
        "  # decision function is y=beta0+beta1*x1+beta2*x2\n",
        "  import numpy as np\n",
        "  X=np.asmatrix(X)\n",
        "  beta=np.array([beta0, beta1, beta2])\n",
        "  beta=np.asmatrix(beta)\n",
        "  ypred=-np.ones((X.shape[0],1))\n",
        "  ypred[X@beta.T>0]=1\n",
        "  Loss=0\n",
        "  for i in range(X.shape[0]):\n",
        "    yi=y[i].item()\n",
        "    if yi-ypred[i]==2:\n",
        "      Loss=Loss+Loss1\n",
        "    if yi-ypred[i]==-2:\n",
        "      Loss=Loss+Loss2\n",
        "  return(Loss)"
      ],
      "execution_count": 0,
      "outputs": []
    },
    {
      "cell_type": "markdown",
      "metadata": {
        "id": "G72X8yVSXytv",
        "colab_type": "text"
      },
      "source": [
        "### Loss from regular SVM"
      ]
    },
    {
      "cell_type": "code",
      "metadata": {
        "id": "Q6pBD1CyXwp2",
        "colab_type": "code",
        "outputId": "f895f367-4cbe-4610-9366-1a2acf62d338",
        "colab": {
          "base_uri": "https://localhost:8080/",
          "height": 69
        }
      },
      "source": [
        "# fit SVM model\n",
        "SVMsl=SVC(kernel='linear', C=Cbest)\n",
        "SVMsl.fit(X, y.ravel())\n",
        "print (\"coef of SVM from scikit-learn is \", [SVMsl.intercept_,SVMsl.coef_[0][0], SVMsl.coef_[0][1]])\n",
        "trainlossSVM=getloss(X=Xqp, y=y, Loss1=3, Loss2=1, beta0=SVMsl.intercept_, beta1=SVMsl.coef_[0][0], beta2=SVMsl.coef_[0][1])\n",
        "print(\"train loss from SVM\", trainlossSVM)\n",
        "testlossSVM=getloss(X=Xqptest, y=ytest, Loss1=3, Loss2=1, beta0=SVMsl.intercept_, beta1=SVMsl.coef_[0][0], beta2=SVMsl.coef_[0][1])\n",
        "print(\"test loss from SVM\", testlossSVM)"
      ],
      "execution_count": 0,
      "outputs": [
        {
          "output_type": "stream",
          "text": [
            "coef of SVM from scikit-learn is  [array([-0.78432482]), 0.3604408495296132, -0.38535972385778167]\n",
            "train loss from SVM 114\n",
            "test loss from SVM 116\n"
          ],
          "name": "stdout"
        }
      ]
    },
    {
      "cell_type": "markdown",
      "metadata": {
        "id": "xZ3OpJjxY6mi",
        "colab_type": "text"
      },
      "source": [
        "### Grid search to find minimum loss"
      ]
    },
    {
      "cell_type": "code",
      "metadata": {
        "id": "aw1f4rgCYu52",
        "colab_type": "code",
        "outputId": "cfd05d16-f574-41d2-cdac-44ad50ff7ec8",
        "colab": {
          "base_uri": "https://localhost:8080/",
          "height": 763
        }
      },
      "source": [
        "betabest=np.array([0,0,0])\n",
        "beta0v=np.arange(-1,1,step=0.5)\n",
        "beta1v=np.arange(-1,1,step=0.5)\n",
        "beta2v=np.arange(-1,1,step=0.5)\n",
        "Loss1=3\n",
        "Loss2=1\n",
        "Lossmin=Xqp.shape[0]*Loss1\n",
        "# round 1\n",
        "for beta0 in beta0v:\n",
        "  print(beta0)\n",
        "  for beta1 in beta1v:\n",
        "    for beta2 in beta2v:\n",
        "      temploss=getloss(X=Xqp, y=y, Loss1=Loss1, Loss2=Loss2, beta0=beta0, beta1=beta1, beta2=beta2)\n",
        "      if temploss<Lossmin:\n",
        "        betabest=np.array([beta0,beta1,beta2])\n",
        "        Lossmin=temploss\n",
        "print(\"Round 1\")\n",
        "print(\"best parameter combination is \", betabest)\n",
        "print(\"minimal loss is \", Lossmin)"
      ],
      "execution_count": 0,
      "outputs": [
        {
          "output_type": "stream",
          "text": [
            "-1.0\n",
            "-0.95\n",
            "-0.8999999999999999\n",
            "-0.8499999999999999\n",
            "-0.7999999999999998\n",
            "-0.7499999999999998\n",
            "-0.6999999999999997\n",
            "-0.6499999999999997\n",
            "-0.5999999999999996\n",
            "-0.5499999999999996\n",
            "-0.49999999999999956\n",
            "-0.4499999999999995\n",
            "-0.39999999999999947\n",
            "-0.3499999999999994\n",
            "-0.2999999999999994\n",
            "-0.24999999999999933\n",
            "-0.1999999999999993\n",
            "-0.14999999999999925\n",
            "-0.0999999999999992\n",
            "-0.049999999999999156\n",
            "8.881784197001252e-16\n",
            "0.05000000000000093\n",
            "0.10000000000000098\n",
            "0.15000000000000102\n",
            "0.20000000000000107\n",
            "0.2500000000000011\n",
            "0.30000000000000115\n",
            "0.3500000000000012\n",
            "0.40000000000000124\n",
            "0.4500000000000013\n",
            "0.5000000000000013\n",
            "0.5500000000000014\n",
            "0.6000000000000014\n",
            "0.6500000000000015\n",
            "0.7000000000000015\n",
            "0.7500000000000016\n",
            "0.8000000000000016\n",
            "0.8500000000000016\n",
            "0.9000000000000017\n",
            "0.9500000000000017\n",
            "Round 1\n",
            "best parameter combination is  [ 0.3   0.55 -0.6 ]\n",
            "minimal loss is  69\n"
          ],
          "name": "stdout"
        }
      ]
    },
    {
      "cell_type": "code",
      "metadata": {
        "id": "mHv4IzD4ZCfs",
        "colab_type": "code",
        "outputId": "6dcadb29-37ec-4593-dcbf-57461b183a4a",
        "colab": {
          "base_uri": "https://localhost:8080/",
          "height": 35
        }
      },
      "source": [
        "# get loss for test data from grid search\n",
        "testlossgrid=getloss(X=Xqptest, y=ytest, Loss1=3, Loss2=1, beta0=betabest[0], beta1=betabest[1], beta2=betabest[2])\n",
        "print(\"test loss from grid search\", testlossgrid)"
      ],
      "execution_count": 0,
      "outputs": [
        {
          "output_type": "stream",
          "text": [
            "test loss from grid search 98\n"
          ],
          "name": "stdout"
        }
      ]
    },
    {
      "cell_type": "markdown",
      "metadata": {
        "id": "C94uDza5w3Ey",
        "colab_type": "text"
      },
      "source": [
        "## Try QP1"
      ]
    },
    {
      "cell_type": "code",
      "metadata": {
        "id": "-I_lliA5q3Tw",
        "colab_type": "code",
        "outputId": "100c7a3b-165d-4248-d081-e90a59cf83cf",
        "colab": {
          "base_uri": "https://localhost:8080/",
          "height": 433
        }
      },
      "source": [
        "# get the number of parameters in beta, including beta_0\n",
        "nbeta=Xqp.shape[1]\n",
        "# get total number of samples\n",
        "nsample=Xqp.shape[0]\n",
        "G=np.identity(nbeta+nsample)\n",
        "G[0,0]=0\n",
        "for i in range(nbeta, nbeta+nsample):\n",
        "  G[i,i]=0\n",
        "\n",
        "# create C=np.concatenate(Q, O)\n",
        "Q11=y*Xqp\n",
        "Q12=np.zeros((nsample,nsample))\n",
        "Q1=np.hstack((Q11, Q12))\n",
        "Q21=np.zeros((nsample,nbeta))\n",
        "Q22=np.identity(nsample)\n",
        "Q2=np.hstack((Q21, Q22))\n",
        "Q=Q1+Q2\n",
        "# O=Q2\n",
        "C=np.concatenate((Q, Q2))\n",
        "\n",
        "# create b\n",
        "# b = np.concatenate((b1, b2))\n",
        "b1=np.ones((nsample))\n",
        "b2=np.zeros((nsample))\n",
        "b=np.concatenate((b1, b2))\n",
        "\n",
        "tbest=1\n",
        "lossmin=Loss1*nsample\n",
        "tlist=np.arange(2, 4, step=0.1)\n",
        "for t in tlist:\n",
        "  print (t)\n",
        "  # create a\n",
        "  # a= np.concatenate((a1, a2))\n",
        "  # define cost C\n",
        "  C2=Cbest*5/(4+t)\n",
        "  C1=C2*t\n",
        "  a1=np.zeros((nbeta))\n",
        "  a2=C1*(y**2+y)*0.5+C2*(y**2-y)*0.5\n",
        "  a= np.concatenate((a1, a2.ravel()))\n",
        "\n",
        "  # QP\n",
        "  from cvxpy import *\n",
        "  import numpy as np\n",
        "\n",
        "  # optimization variables\n",
        "  x=Variable(nsample+nbeta)\n",
        "\n",
        "  # build optimization problem\n",
        "  objective = Minimize( 0.5 * quad_form(x, G) + a.T * x )\n",
        "  constraints = [ C * x >= b ]\n",
        "  prob = Problem(objective, constraints)\n",
        "\n",
        "  # solve optimization problem\n",
        "  prob.solve()\n",
        "  #print (\"beta  =\", x.value[0:nbeta])\n",
        "  QP=x.value[0:nbeta]\n",
        "  temploss=getloss(X=Xqp, y=y, Loss1=3, Loss2=1, beta0=QP[0], beta1=QP[1], beta2=QP[2])\n",
        "  if temploss<lossmin:\n",
        "    tbest=t\n",
        "    lossmin=temploss\n",
        "    QP1best=QP\n",
        "\n",
        "print(\"best train loss is \", lossmin)\n",
        "print(\"best t is \", tbest)\n",
        "print(\"best QP coefficients are \", QP1best)\n",
        "testloss1=getloss(X=Xqptest, y=ytest, Loss1=3, Loss2=1, beta0=QP1best[0], beta1=QP1best[1], beta2=QP1best[2])\n",
        "print(\"test loss is \", testloss1)"
      ],
      "execution_count": 0,
      "outputs": [
        {
          "output_type": "stream",
          "text": [
            "2.0\n",
            "2.1\n",
            "2.2\n",
            "2.3000000000000003\n",
            "2.4000000000000004\n",
            "2.5000000000000004\n",
            "2.6000000000000005\n",
            "2.7000000000000006\n",
            "2.8000000000000007\n",
            "2.900000000000001\n",
            "3.000000000000001\n",
            "3.100000000000001\n",
            "3.200000000000001\n",
            "3.300000000000001\n",
            "3.4000000000000012\n",
            "3.5000000000000013\n",
            "3.6000000000000014\n",
            "3.7000000000000015\n",
            "3.8000000000000016\n",
            "3.9000000000000017\n",
            "best train loss is  73\n",
            "best t is  2.900000000000001\n",
            "best QP coefficients are  [-0.30499854  0.54924535 -0.50415053]\n",
            "test loss is  88\n"
          ],
          "name": "stdout"
        }
      ]
    },
    {
      "cell_type": "markdown",
      "metadata": {
        "id": "beENcES-zUWJ",
        "colab_type": "text"
      },
      "source": [
        "## Try QP2"
      ]
    },
    {
      "cell_type": "code",
      "metadata": {
        "id": "4U5PeB34zWnp",
        "colab_type": "code",
        "outputId": "c9529918-058c-4f19-8779-4a226c738389",
        "colab": {
          "base_uri": "https://localhost:8080/",
          "height": 624
        }
      },
      "source": [
        "# get the number of parameters in beta, including beta_0\n",
        "nbeta=Xqp.shape[1]\n",
        "# get total number of samples\n",
        "nsample=Xqp.shape[0]\n",
        "\n",
        "\n",
        "\n",
        "# create C=np.concatenate(Q, O)\n",
        "Q11=y*Xqp\n",
        "Q12=np.zeros((nsample,nsample))\n",
        "Q1=np.hstack((Q11, Q12))\n",
        "Q21=np.zeros((nsample,nbeta))\n",
        "Q22=np.identity(nsample)\n",
        "Q2=np.hstack((Q21, Q22))\n",
        "Q=Q1+Q2\n",
        "# O=Q2\n",
        "C=np.concatenate((Q, Q2))\n",
        "\n",
        "# create b\n",
        "# b = np.concatenate((b1, b2))\n",
        "b1=np.ones((nsample))\n",
        "b2=np.zeros((nsample))\n",
        "b=np.concatenate((b1, b2))\n",
        "\n",
        "tbest=1\n",
        "lossmin=Loss1*nsample\n",
        "tlist=np.arange(1.9, 2.2, step=0.01)\n",
        "for t in tlist:\n",
        "  print(t)\n",
        "  C2=Cbest*5/(4+t)\n",
        "  C1=C2*t\n",
        "  G=np.identity(nbeta+nsample)\n",
        "  G[0,0]=0\n",
        "  for i in range(nsample):\n",
        "    yi=y[i].item()\n",
        "    G[i+nbeta, i+nbeta]=C1*(yi**2+yi)+C2*(yi**2-yi)\n",
        "\n",
        "  from cvxpy import *\n",
        "  import numpy as np\n",
        "\n",
        "  # optimization variables\n",
        "  #x = Variable(5)\n",
        "  x=Variable(nsample+nbeta)\n",
        "\n",
        "  # build optimization problem\n",
        "  objective = Minimize( 0.5 * quad_form(x, G))\n",
        "  constraints = [ C * x >= b ]\n",
        "  prob = Problem(objective, constraints)\n",
        "\n",
        "  # solve optimization problem\n",
        "  prob.solve()\n",
        "  QP=x.value[0:nbeta]\n",
        "  temploss=getloss(X=Xqp, y=y, Loss1=3, Loss2=1, beta0=QP[0], beta1=QP[1], beta2=QP[2])\n",
        "  if temploss<lossmin:\n",
        "    tbest=t\n",
        "    lossmin=temploss\n",
        "    QP2best=QP\n",
        "\n",
        "print(\"temploss is \", lossmin)\n",
        "print(\"best t is \", tbest)\n",
        "print(\"best QP coefficients are \", QP2best)\n",
        "testloss2=getloss(X=Xqptest, y=ytest, Loss1=3, Loss2=1, beta0=QP2best[0], beta1=QP2best[1], beta2=QP2best[2])\n",
        "print(\"test loss is \", testloss2)"
      ],
      "execution_count": 0,
      "outputs": [
        {
          "output_type": "stream",
          "text": [
            "1.9\n",
            "1.91\n",
            "1.92\n",
            "1.93\n",
            "1.94\n",
            "1.95\n",
            "1.96\n",
            "1.97\n",
            "1.98\n",
            "1.99\n",
            "2.0\n",
            "2.01\n",
            "2.02\n",
            "2.0300000000000002\n",
            "2.04\n",
            "2.05\n",
            "2.06\n",
            "2.0700000000000003\n",
            "2.08\n",
            "2.09\n",
            "2.1\n",
            "2.1100000000000003\n",
            "2.12\n",
            "2.13\n",
            "2.14\n",
            "2.1500000000000004\n",
            "2.16\n",
            "2.17\n",
            "2.18\n",
            "2.1900000000000004\n",
            "2.2\n",
            "temploss is  82\n",
            "best t is  2.14\n",
            "best QP coefficients are  [-0.22806692  0.23765481 -0.24524175]\n",
            "test loss is  96\n"
          ],
          "name": "stdout"
        }
      ]
    },
    {
      "cell_type": "markdown",
      "metadata": {
        "id": "C3FW3YtFDeC_",
        "colab_type": "text"
      },
      "source": [
        "## Cross Validation QP1"
      ]
    },
    {
      "cell_type": "code",
      "metadata": {
        "id": "0DOyYX3ME5Om",
        "colab_type": "code",
        "colab": {}
      },
      "source": [
        "np.random.seed(10)\n",
        "Index=random.sample(range(Xqpall.shape[0]), Xqpall.shape[0])\n",
        "Xqpall=Xqp[Index,:]\n",
        "yall=y[Index]"
      ],
      "execution_count": 0,
      "outputs": []
    },
    {
      "cell_type": "code",
      "metadata": {
        "id": "Lwc3fYuw0o2T",
        "colab_type": "code",
        "outputId": "21ebb583-b8a1-4534-d6e3-5002c7f8b6fc",
        "colab": {
          "base_uri": "https://localhost:8080/",
          "height": 35
        }
      },
      "source": [
        "tbest=1\n",
        "lossmin=Loss1*nsample\n",
        "tlist=np.arange(2, 4, step=0.1)\n",
        "np.random.seed(10)\n",
        "Index=random.sample(range(Xqpall.shape[0]), Xqpall.shape[0])\n",
        "for t in tlist:\n",
        "  #print (t)\n",
        "  temploss=0\n",
        "  for i in range(4):\n",
        "    if i==0:\n",
        "      tempXqptest=Xqpall[0:99,:]\n",
        "      tempytest=yall[0:99,:]\n",
        "      Xqp=Xqpall[99:399,:]\n",
        "      y=yall[99:399]\n",
        "    if i==1:\n",
        "      Temp=np.concatenate((np.arange(0,99,step=1), np.arange(199, 399, step=1)))\n",
        "      tempXqptest=Xqpall[99:199,:]\n",
        "      tempytest=yall[99:199]\n",
        "      Xqp=Xqpall[Temp,:]\n",
        "      y=yall[Temp]\n",
        "    if i==2:\n",
        "      Temp=np.concatenate((np.arange(0,199,step=1), np.arange(299, 399, step=1)))\n",
        "      tempXqptest=Xqpall[199:299,:]\n",
        "      tempytest=yall[199:299]\n",
        "      Xqp=Xqpall[Temp,:]\n",
        "      y=yall[Temp]\n",
        "    if i==3:\n",
        "      tempXqptest=Xqpall[299:399,:]\n",
        "      tempytest=yall[299:399]\n",
        "      Xqp=Xqpall[0:299,:]\n",
        "      y=yall[0:299]\n",
        "    # get the number of parameters in beta, including beta_0\n",
        "    nbeta=Xqp.shape[1]\n",
        "    # get total number of samples\n",
        "    nsample=Xqp.shape[0]\n",
        "    G=np.identity(nbeta+nsample)\n",
        "    G[0,0]=0\n",
        "    for i in range(nbeta, nbeta+nsample):\n",
        "      G[i,i]=0\n",
        "\n",
        "    # create C=np.concatenate(Q, O)\n",
        "    Q11=y*Xqp\n",
        "    Q12=np.zeros((nsample,nsample))\n",
        "    Q1=np.hstack((Q11, Q12))\n",
        "    Q21=np.zeros((nsample,nbeta))\n",
        "    Q22=np.identity(nsample)\n",
        "    Q2=np.hstack((Q21, Q22))\n",
        "    Q=Q1+Q2\n",
        "    # O=Q2\n",
        "    C=np.concatenate((Q, Q2))\n",
        "\n",
        "    # create b\n",
        "    # b = np.concatenate((b1, b2))\n",
        "    b1=np.ones((nsample))\n",
        "    b2=np.zeros((nsample))  \n",
        "    b=np.concatenate((b1, b2))\n",
        "    # create a\n",
        "    # a= np.concatenate((a1, a2))\n",
        "    # define cost C\n",
        "    C2=Cbest*5/(4+t)\n",
        "    C1=C2*t\n",
        "    a1=np.zeros((nbeta))\n",
        "    a2=C1*(y**2+y)*0.5+C2*(y**2-y)*0.5\n",
        "    a= np.concatenate((a1, a2.ravel()))\n",
        "\n",
        "    # QP\n",
        "    from cvxpy import *\n",
        "    import numpy as np\n",
        "\n",
        "    # optimization variables\n",
        "    x=Variable(nsample+nbeta)\n",
        "\n",
        "    # build optimization problem\n",
        "    objective = Minimize( 0.5 * quad_form(x, G) + a.T * x )\n",
        "    constraints = [ C * x >= b ]\n",
        "    prob = Problem(objective, constraints)\n",
        "\n",
        "    # solve optimization problem\n",
        "    prob.solve()\n",
        "    #print (\"beta  =\", x.value[0:nbeta])\n",
        "    QP=x.value[0:nbeta]\n",
        "    temploss=getloss(X=tempXqptest, y=tempytest, Loss1=3, Loss2=1, beta0=QP[0], beta1=QP[1], beta2=QP[2])+temploss\n",
        "  if temploss<lossmin:\n",
        "    tbest=t\n",
        "    lossmin=temploss\n",
        "    QP1best=QP\n",
        "  #print(temploss)\n",
        "\n",
        "tbest1=tbest\n",
        "\n",
        "#trainloss1=getloss(X=Xqpall, y=yall, Loss1=3, Loss2=1, beta0=QP1best[0], beta1=QP1best[1], beta2=QP1best[2])\n",
        "#print(\"best train loss is \", trainloss1)\n",
        "print(\"best t is \", tbest)\n",
        "#print(\"best QP coefficients are \", QP1best)\n",
        "#testloss1=getloss(X=Xqptest, y=ytest, Loss1=3, Loss2=1, beta0=QP1best[0], beta1=QP1best[1], beta2=QP1best[2])\n",
        "#print(\"test loss is \", testloss1)"
      ],
      "execution_count": 0,
      "outputs": [
        {
          "output_type": "stream",
          "text": [
            "best t is  2.5000000000000004\n"
          ],
          "name": "stdout"
        }
      ]
    },
    {
      "cell_type": "code",
      "metadata": {
        "id": "06mRo89dE-wU",
        "colab_type": "code",
        "outputId": "56b64608-3b7f-4c21-dc60-0f08c1fd95b4",
        "colab": {
          "base_uri": "https://localhost:8080/",
          "height": 104
        }
      },
      "source": [
        "Xqp=Xqpall\n",
        "y=yall\n",
        "# get the number of parameters in beta, including beta_0\n",
        "nbeta=Xqp.shape[1]\n",
        "# get total number of samples\n",
        "nsample=Xqp.shape[0]\n",
        "G=np.identity(nbeta+nsample)\n",
        "G[0,0]=0\n",
        "for i in range(nbeta, nbeta+nsample):\n",
        "  G[i,i]=0\n",
        "\n",
        "# create C=np.concatenate(Q, O)\n",
        "Q11=y*Xqp\n",
        "Q12=np.zeros((nsample,nsample))\n",
        "Q1=np.hstack((Q11, Q12))\n",
        "Q21=np.zeros((nsample,nbeta))\n",
        "Q22=np.identity(nsample)\n",
        "Q2=np.hstack((Q21, Q22))\n",
        "Q=Q1+Q2\n",
        "# O=Q2\n",
        "C=np.concatenate((Q, Q2))\n",
        "\n",
        "# create b\n",
        "# b = np.concatenate((b1, b2))\n",
        "b1=np.ones((nsample))\n",
        "b2=np.zeros((nsample))\n",
        "b=np.concatenate((b1, b2))\n",
        "\n",
        "tbest=1\n",
        "lossmin=Loss1*nsample\n",
        "tlist=[tbest1]\n",
        "for t in tlist:\n",
        "  print (t)\n",
        "  # create a\n",
        "  # a= np.concatenate((a1, a2))\n",
        "  # define cost C\n",
        "  C2=Cbest*5/(4+t)\n",
        "  C1=C2*t\n",
        "  a1=np.zeros((nbeta))\n",
        "  a2=C1*(y**2+y)*0.5+C2*(y**2-y)*0.5\n",
        "  a= np.concatenate((a1, a2.ravel()))\n",
        "\n",
        "  # QP\n",
        "  from cvxpy import *\n",
        "  import numpy as np\n",
        "\n",
        "  # optimization variables\n",
        "  x=Variable(nsample+nbeta)\n",
        "\n",
        "  # build optimization problem\n",
        "  objective = Minimize( 0.5 * quad_form(x, G) + a.T * x )\n",
        "  constraints = [ C * x >= b ]\n",
        "  prob = Problem(objective, constraints)\n",
        "\n",
        "  # solve optimization problem\n",
        "  prob.solve()\n",
        "  #print (\"beta  =\", x.value[0:nbeta])\n",
        "  QP=x.value[0:nbeta]\n",
        "  temploss=getloss(X=Xqp, y=y, Loss1=3, Loss2=1, beta0=QP[0], beta1=QP[1], beta2=QP[2])\n",
        "  if temploss<lossmin:\n",
        "    tbest=t\n",
        "    lossmin=temploss\n",
        "    QP1best=QP\n",
        "\n",
        "print(\"best train loss is \", lossmin)\n",
        "print(\"best t is \", tbest)\n",
        "print(\"best QP coefficients are \", QP1best)\n",
        "testloss1=getloss(X=Xqptest, y=ytest, Loss1=3, Loss2=1, beta0=QP1best[0], beta1=QP1best[1], beta2=QP1best[2])\n",
        "print(\"test loss is \", testloss1)"
      ],
      "execution_count": 0,
      "outputs": [
        {
          "output_type": "stream",
          "text": [
            "2.5000000000000004\n",
            "best train loss is  78\n",
            "best t is  2.5000000000000004\n",
            "best QP coefficients are  [-0.35843788  0.55261344 -0.55233437]\n",
            "test loss is  89\n"
          ],
          "name": "stdout"
        }
      ]
    },
    {
      "cell_type": "markdown",
      "metadata": {
        "id": "y3OE9AYxTm-l",
        "colab_type": "text"
      },
      "source": [
        "## Cross Validation for QP2"
      ]
    },
    {
      "cell_type": "code",
      "metadata": {
        "id": "HJZQWk-wP93d",
        "colab_type": "code",
        "colab": {}
      },
      "source": [
        "np.random.seed(10)\n",
        "Index=random.sample(range(Xqpall.shape[0]), Xqpall.shape[0])\n",
        "Xqpall=Xqp[Index,:]\n",
        "yall=y[Index]"
      ],
      "execution_count": 0,
      "outputs": []
    },
    {
      "cell_type": "code",
      "metadata": {
        "id": "GZrXIQlLTtMC",
        "colab_type": "code",
        "outputId": "6b8e31bc-eb53-4d9b-b9de-c02780eb423e",
        "colab": {
          "base_uri": "https://localhost:8080/",
          "height": 35
        }
      },
      "source": [
        "tbest=1\n",
        "lossmin=Loss1*nsample\n",
        "tlist=np.arange(1, 5, step=0.1)\n",
        "np.random.seed(10)\n",
        "Index=random.sample(range(Xqpall.shape[0]), Xqpall.shape[0])\n",
        "for t in tlist:\n",
        "  #print (t)\n",
        "  temploss=0\n",
        "  for i in range(4):\n",
        "    if i==0:\n",
        "      tempXqptest=Xqpall[0:99,:]\n",
        "      tempytest=yall[0:99,:]\n",
        "      Xqp=Xqpall[99:399,:]\n",
        "      y=yall[99:399]\n",
        "    if i==1:\n",
        "      Temp=np.concatenate((np.arange(0,99,step=1), np.arange(199, 399, step=1)))\n",
        "      tempXqptest=Xqpall[99:199,:]\n",
        "      tempytest=yall[99:199]\n",
        "      Xqp=Xqpall[Temp,:]\n",
        "      y=yall[Temp]\n",
        "    if i==2:\n",
        "      Temp=np.concatenate((np.arange(0,199,step=1), np.arange(299, 399, step=1)))\n",
        "      tempXqptest=Xqpall[199:299,:]\n",
        "      tempytest=yall[199:299]\n",
        "      Xqp=Xqpall[Temp,:]\n",
        "      y=yall[Temp]\n",
        "    if i==3:\n",
        "      tempXqptest=Xqpall[299:399,:]\n",
        "      tempytest=yall[299:399]\n",
        "      Xqp=Xqpall[0:299,:]\n",
        "      y=yall[0:299]\n",
        "    # get the number of parameters in beta, including beta_0\n",
        "    nbeta=Xqp.shape[1]\n",
        "    # get total number of samples\n",
        "    nsample=Xqp.shape[0]\n",
        "    C2=Cbest*5/(4+t)\n",
        "    C1=C2*t\n",
        "    G=np.identity(nbeta+nsample)\n",
        "    G[0,0]=0\n",
        "    for i in range(nsample):\n",
        "      yi=y[i].item()\n",
        "      G[i+nbeta, i+nbeta]=C1*(yi**2+yi)+C2*(yi**2-yi)\n",
        "\n",
        "    # create C=np.concatenate(Q, O)\n",
        "    Q11=y*Xqp\n",
        "    Q12=np.zeros((nsample,nsample))\n",
        "    Q1=np.hstack((Q11, Q12))\n",
        "    Q21=np.zeros((nsample,nbeta))\n",
        "    Q22=np.identity(nsample)\n",
        "    Q2=np.hstack((Q21, Q22))\n",
        "    Q=Q1+Q2\n",
        "    # O=Q2\n",
        "    C=np.concatenate((Q, Q2))\n",
        "\n",
        "    # create b\n",
        "    # b = np.concatenate((b1, b2))\n",
        "    b1=np.ones((nsample))\n",
        "    b2=np.zeros((nsample))  \n",
        "    b=np.concatenate((b1, b2))\n",
        "\n",
        "\n",
        "    # QP\n",
        "    from cvxpy import *\n",
        "    import numpy as np\n",
        "\n",
        "    # optimization variables\n",
        "    x=Variable(nsample+nbeta)\n",
        "\n",
        "    # build optimization problem\n",
        "    objective = Minimize( 0.5 * quad_form(x, G) )\n",
        "    constraints = [ C * x >= b ]\n",
        "    prob = Problem(objective, constraints)\n",
        "\n",
        "    # solve optimization problem\n",
        "    prob.solve()\n",
        "    #print (\"beta  =\", x.value[0:nbeta])\n",
        "    QP=x.value[0:nbeta]\n",
        "    temploss=getloss(X=tempXqptest, y=tempytest, Loss1=3, Loss2=1, beta0=QP[0], beta1=QP[1], beta2=QP[2])+temploss\n",
        "  if temploss<lossmin:\n",
        "    tbest=t\n",
        "    lossmin=temploss\n",
        "    QP1best=QP\n",
        "  #print(temploss)\n",
        "\n",
        "tbest2=tbest\n",
        "\n",
        "#trainloss1=getloss(X=Xqpall, y=yall, Loss1=3, Loss2=1, beta0=QP1best[0], beta1=QP1best[1], beta2=QP1best[2])\n",
        "#print(\"best train loss is \", trainloss1)\n",
        "print(\"best t is \", tbest2)\n",
        "#print(\"best QP coefficients are \", QP1best)\n",
        "#testloss1=getloss(X=Xqptest, y=ytest, Loss1=3, Loss2=1, beta0=QP1best[0], beta1=QP1best[1], beta2=QP1best[2])\n",
        "#print(\"test loss is \", testloss1)"
      ],
      "execution_count": 0,
      "outputs": [
        {
          "output_type": "stream",
          "text": [
            "best t is  2.7000000000000015\n"
          ],
          "name": "stdout"
        }
      ]
    },
    {
      "cell_type": "code",
      "metadata": {
        "id": "5QSqrRxuUZs8",
        "colab_type": "code",
        "outputId": "49355015-f937-488d-9acd-0b39c0b4f08b",
        "colab": {
          "base_uri": "https://localhost:8080/",
          "height": 104
        }
      },
      "source": [
        "Xqp=Xqpall\n",
        "y=yall\n",
        "# get the number of parameters in beta, including beta_0\n",
        "nbeta=Xqp.shape[1]\n",
        "# get total number of samples\n",
        "nsample=Xqp.shape[0]\n",
        "\n",
        "# create C=np.concatenate(Q, O)\n",
        "Q11=y*Xqp\n",
        "Q12=np.zeros((nsample,nsample))\n",
        "Q1=np.hstack((Q11, Q12))\n",
        "Q21=np.zeros((nsample,nbeta))\n",
        "Q22=np.identity(nsample)\n",
        "Q2=np.hstack((Q21, Q22))\n",
        "Q=Q1+Q2\n",
        "# O=Q2\n",
        "C=np.concatenate((Q, Q2))\n",
        "\n",
        "# create b\n",
        "# b = np.concatenate((b1, b2))\n",
        "b1=np.ones((nsample))\n",
        "b2=np.zeros((nsample))\n",
        "b=np.concatenate((b1, b2))\n",
        "\n",
        "tbest=1\n",
        "lossmin=Loss1*nsample\n",
        "tlist=[tbest2]\n",
        "for t in tlist:\n",
        "  print(t)\n",
        "  C2=Cbest*5/(4+t)\n",
        "  C1=C2*t\n",
        "  G=np.identity(nbeta+nsample)\n",
        "  G[0,0]=0\n",
        "  for i in range(nsample):\n",
        "    yi=y[i].item()\n",
        "    G[i+nbeta, i+nbeta]=C1*(yi**2+yi)+C2*(yi**2-yi)\n",
        "\n",
        "  from cvxpy import *\n",
        "  import numpy as np\n",
        "\n",
        "  # optimization variables\n",
        "  #x = Variable(5)\n",
        "  x=Variable(nsample+nbeta)\n",
        "\n",
        "  # build optimization problem\n",
        "  objective = Minimize( 0.5 * quad_form(x, G))\n",
        "  constraints = [ C * x >= b ]\n",
        "  prob = Problem(objective, constraints)\n",
        "\n",
        "  # solve optimization problem\n",
        "  prob.solve()\n",
        "  QP=x.value[0:nbeta]\n",
        "  temploss=getloss(X=Xqp, y=y, Loss1=3, Loss2=1, beta0=QP[0], beta1=QP[1], beta2=QP[2])\n",
        "  if temploss<lossmin:\n",
        "    tbest=t\n",
        "    lossmin=temploss\n",
        "    QP2best=QP\n",
        "\n",
        "print(\"temploss is \", lossmin)\n",
        "print(\"best t is \", tbest)\n",
        "print(\"best QP coefficients are \", QP2best)\n",
        "testloss2=getloss(X=Xqptest, y=ytest, Loss1=3, Loss2=1, beta0=QP2best[0], beta1=QP2best[1], beta2=QP2best[2])\n",
        "print(\"test loss is \", testloss2)"
      ],
      "execution_count": 0,
      "outputs": [
        {
          "output_type": "stream",
          "text": [
            "2.7000000000000015\n",
            "temploss is  77\n",
            "best t is  2.7000000000000015\n",
            "best QP coefficients are  [-0.15882879  0.24672445 -0.25062711]\n",
            "test loss is  89\n"
          ],
          "name": "stdout"
        }
      ]
    },
    {
      "cell_type": "markdown",
      "metadata": {
        "id": "0JQOBu-kbHHX",
        "colab_type": "text"
      },
      "source": [
        "## Plot these model together"
      ]
    },
    {
      "cell_type": "code",
      "metadata": {
        "id": "k8K5BeUpVAcr",
        "colab_type": "code",
        "colab": {}
      },
      "source": [
        "# create training data\n",
        "N=400\n",
        "np.random.seed(50)\n",
        "p=0.2\n",
        "N1=int(N*p)\n",
        "N2=int(N-N1)\n",
        "X01 = np.ones((N1,1))\n",
        "X02 = np.ones((N2,1))\n",
        "mu1=[4,1]\n",
        "Sigma1=[[5,0], [0,5]]\n",
        "mu2=[1,4]\n",
        "Sigma2=[[5,0], [0,5]]\n",
        "X1=np.random.multivariate_normal(mu1,Sigma1, size=N1)\n",
        "y1=np.ones((N1,1))\n",
        "y2=-np.ones((N2,1))\n",
        "X2=np.random.multivariate_normal(mu2,Sigma2, size=N2)\n",
        "Redx=np.hstack((X01,X1))\n",
        "Bluex=np.hstack((X02,X2))\n",
        "# combine two classes of dots\n",
        "X=np.concatenate((X1,X2))\n",
        "Xqp=np.concatenate((Redx, Bluex))\n",
        "y=np.concatenate((y1,y2))"
      ],
      "execution_count": 0,
      "outputs": []
    },
    {
      "cell_type": "code",
      "metadata": {
        "id": "xxCbSW9ybVPB",
        "colab_type": "code",
        "colab": {}
      },
      "source": [
        "# result from SVM\n",
        "SVMbeta0=SVMsl.intercept_[0]\n",
        "SVMbeta1=SVMsl.coef_[0][0]\n",
        "SVMbeta2=SVMsl.coef_[0][1]\n",
        "linex=np.arange(np.amin(Xqp[:,1]),np.amax(Xqp[:,1]), step=0.2)\n",
        "SVMliney=-SVMbeta0/SVMbeta2-SVMbeta1/SVMbeta2*linex\n",
        "\n",
        "# result from grid search\n",
        "GSbeta0=betabest[0]\n",
        "GSbeta1=betabest[1]\n",
        "GSbeta2=betabest[2]\n",
        "GSliney=-GSbeta0/GSbeta2-GSbeta1/GSbeta2*linex\n",
        "\n",
        "# result from Model 1\n",
        "M1beta0=QP1best[0]\n",
        "M1beta1=QP1best[1]\n",
        "M1beta2=QP1best[2]\n",
        "M1liney=-M1beta0/M1beta2-M1beta1/M1beta2*linex\n",
        "\n",
        "# result from Model 2\n",
        "M2beta0=QP2best[0]\n",
        "M2beta1=QP2best[1]\n",
        "M2beta2=QP2best[2]\n",
        "M2liney=-M2beta0/M2beta2-M2beta1/M2beta2*linex"
      ],
      "execution_count": 0,
      "outputs": []
    },
    {
      "cell_type": "code",
      "metadata": {
        "id": "8rKKCquQcgT_",
        "colab_type": "code",
        "outputId": "59ea59fe-9745-4ffd-fdcf-bff37a46f4bd",
        "colab": {
          "base_uri": "https://localhost:8080/",
          "height": 317
        }
      },
      "source": [
        "import pandas as pd\n",
        "df=pd.DataFrame({'x': linex, 'SVM': SVMliney, 'GS': GSliney, 'M1':M1liney, 'M2':M2liney})\n",
        "plt.plot( 'x', 'SVM', data=df, color='black', linewidth=2, label='SVM')\n",
        "plt.plot( 'x', 'GS', data=df, color='red', linewidth=2, label='Grid Search')\n",
        "plt.plot( 'x', 'M1', data=df, color='green', linewidth=2, label='Model 1')\n",
        "plt.plot( 'x', 'M2', data=df, color='orange', linewidth=2, label='Model 2')\n",
        "plt.xlabel(\"X1\", fontsize='x-large')\n",
        "plt.ylabel(\"X2\", fontsize='x-large')\n",
        "plt.title(\"Comparison of Four Models\", fontsize='x-large')\n",
        "\n",
        "plt.plot(X1[:,0], X1[:,1], 'ro')\n",
        "plt.plot(X2[:,0], X2[:,1], 'bo')\n",
        "\n",
        "plt.legend(fontsize = 'large')\n"
      ],
      "execution_count": 0,
      "outputs": [
        {
          "output_type": "execute_result",
          "data": {
            "text/plain": [
              "<matplotlib.legend.Legend at 0x7fa1a662be80>"
            ]
          },
          "metadata": {
            "tags": []
          },
          "execution_count": 186
        },
        {
          "output_type": "display_data",
          "data": {
            "image/png": "[encoded data removed]",
            "text/plain": [
              "<Figure size 432x288 with 1 Axes>"
            ]
          },
          "metadata": {
            "tags": []
          }
        }
      ]
    },
    {
      "cell_type": "code",
      "metadata": {
        "id": "YSfNZcfydv9l",
        "colab_type": "code",
        "colab": {}
      },
      "source": [
        ""
      ],
      "execution_count": 0,
      "outputs": []
    }
  ]
}